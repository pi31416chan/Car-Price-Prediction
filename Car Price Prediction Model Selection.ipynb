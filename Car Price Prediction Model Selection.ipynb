{
 "cells": [
  {
   "cell_type": "markdown",
   "id": "7e301688-0f63-4d64-aad4-eabaaded388e",
   "metadata": {},
   "source": [
    "# Car Price Prediction Model Selection"
   ]
  },
  {
   "cell_type": "markdown",
   "id": "f3378bd6-7ec0-4a1c-aece-1b5fb3023d29",
   "metadata": {},
   "source": [
    "## Imports"
   ]
  },
  {
   "cell_type": "code",
   "execution_count": 1983,
   "id": "b423a1da-aedf-4e6c-afa0-3de693d39098",
   "metadata": {},
   "outputs": [],
   "source": [
    "import numpy as np\n",
    "import pandas as pd\n",
    "import joblib\n",
    "from sklearn.feature_selection import f_regression,mutual_info_regression,\\\n",
    "                                      SelectPercentile\n",
    "from sklearn.pipeline import Pipeline\n",
    "from sklearn.compose import ColumnTransformer\n",
    "from sklearn.base import BaseEstimator,TransformerMixin,clone\n",
    "from sklearn.preprocessing import OneHotEncoder,StandardScaler,MinMaxScaler,PolynomialFeatures\n",
    "from sklearn.model_selection import train_test_split,GridSearchCV\n",
    "from sklearn.linear_model import LinearRegression,Ridge,Lasso,SGDRegressor\n",
    "from sklearn.ensemble import RandomForestRegressor\n",
    "from sklearn.neighbors import KNeighborsRegressor\n",
    "from sklearn.svm import SVR\n",
    "from sklearn.tree import DecisionTreeRegressor\n",
    "from sklearn.metrics import mean_squared_error,r2_score\n",
    "from mltoolkit.preprocessing import MyScaler\n",
    "from mltoolkit.utils import dump_model"
   ]
  },
  {
   "cell_type": "markdown",
   "id": "a9d2f32d-b7f7-4484-808a-83b81804fa30",
   "metadata": {},
   "source": [
    "## Classes"
   ]
  },
  {
   "cell_type": "code",
   "execution_count": 1968,
   "id": "ea07c665-5d51-4a8d-9178-efc77e9212d0",
   "metadata": {},
   "outputs": [],
   "source": [
    "class MyScaler(TransformerMixin,BaseEstimator):\n",
    "    def __init__(self,scalertype:str=None,**kwargs):\n",
    "        '''\n",
    "        Optional scaling method in one class. Allowing user to pass argument\n",
    "        to decide which scaling method to use, or to skip it.\n",
    "\n",
    "        Parameters:\n",
    "        ----------\n",
    "        scalertype: str | {'std','minmax','skip'}, Default: None\n",
    "        specifying the scaler to transform the data\n",
    "        '''\n",
    "        if scalertype: \n",
    "            if scalertype in ['std','minmax','skip']:\n",
    "                self.scalertype = scalertype\n",
    "            else:\n",
    "                raise ValueError('Specify scaler correctly. Options:{\"std\",\"minmax\",\"skip\"}')\n",
    "        else: self.scalertype = None\n",
    "        self._kwargs = kwargs\n",
    "    def fit(self,X,y=None,scalertype:str=None):\n",
    "        '''\n",
    "        scalertype: str | {'std','minmax','skip'}, Default: None\n",
    "        specifying the scaler to transform the data\n",
    "        '''\n",
    "        if scalertype:\n",
    "            if self.scalertype != scalertype:\n",
    "                self.scalertype = scalertype\n",
    "        if self.scalertype == 'std':\n",
    "            self.scaler = StandardScaler(**self._kwargs)\n",
    "        elif self.scalertype == 'minmax':\n",
    "            self.scaler = MinMaxScaler(**self._kwargs)\n",
    "        elif self.scalertype == 'skip':\n",
    "            return self\n",
    "        else:\n",
    "            raise ValueError('Specify scaler correctly. Options:{\"std\",\"minmax\",\"skip\"}')\n",
    "        return self\n",
    "    def transform(self,X,scalertype:str=None):\n",
    "        '''\n",
    "        scalertype: str | {'std','minmax'}, Default: None\n",
    "        specifying the scaler to transform the data\n",
    "        '''\n",
    "        if scalertype:\n",
    "            if self.scalertype != scalertype:\n",
    "                self.scalertype = scalertype\n",
    "        if self.scalertype == 'std':\n",
    "            self.scaler = StandardScaler(**self._kwargs)\n",
    "        elif self.scalertype == 'minmax':\n",
    "            self.scaler = MinMaxScaler(**self._kwargs)\n",
    "        elif self.scalertype == 'skip':\n",
    "            if type(X) == pd.DataFrame:\n",
    "                return X.values\n",
    "            elif type(X) == np.ndarray:\n",
    "                return X\n",
    "        else:\n",
    "            raise ValueError('Specify scaler correctly. Options:{\"std\",\"minmax\",\"skip\"}')\n",
    "        return self.scaler.fit_transform(X)"
   ]
  },
  {
   "cell_type": "code",
   "execution_count": 277,
   "id": "39744d35-751e-4467-abee-bfc1edebcbb1",
   "metadata": {},
   "outputs": [],
   "source": [
    "class CustomTransform(BaseEstimator,TransformerMixin):\n",
    "    def __init__(self,out_df=False):\n",
    "        self.door_dict = {\"two\":2,\"four\":4}\n",
    "        self.cylinder_dict = {\"four\":4,\"six\":6,\"five\":5,\"three\":3,\n",
    "                              \"twelve\":12,\"two\":2,\"eight\":8,}\n",
    "        self.out_df = out_df\n",
    "        return None\n",
    "    def fit(self,X,y=None):\n",
    "        return self\n",
    "    def transform(self,X,y=None):\n",
    "        if type(X) is not pd.DataFrame:\n",
    "            raise ValueError(\"Please input only DataFrame containing 'doornumber' and 'cylindernumber' columns\")\n",
    "        X = X.copy()\n",
    "        X['doornumber'] = X['doornumber'].apply(lambda x: self.door_dict[x])\n",
    "        X['cylindernumber'] = X['cylindernumber'].apply(lambda x: self.cylinder_dict[x])\n",
    "        X['make'] = X['CarName'].str.split().apply(self.extract_namufacturer)\n",
    "        X.drop('CarName',axis=1,inplace=True)\n",
    "        \n",
    "        if self.out_df: return X\n",
    "        else: return X.values\n",
    "    def extract_namufacturer(self,carname_strs):\n",
    "        typo_dict = {\n",
    "            \"maxda\":\"mazda\",\n",
    "            \"porcshce\":\"porsche\",\n",
    "            \"toyouta\":\"toyota\",\n",
    "            \"vokswagen\":\"volkswagen\",\n",
    "            \"vw\":\"volkswagen\",\n",
    "        }\n",
    "\n",
    "        if carname_strs[0] in typo_dict.keys():\n",
    "            return typo_dict[carname_strs[0]].lower()\n",
    "        else:\n",
    "            return carname_strs[0].lower()"
   ]
  },
  {
   "cell_type": "code",
   "execution_count": 286,
   "id": "0d5867db-5bc6-4a23-8d6f-793abdfaa0c1",
   "metadata": {},
   "outputs": [],
   "source": [
    "class TrainedTransformer(BaseEstimator,TransformerMixin):\n",
    "    def __init__(self,estimator,**kwargs):\n",
    "        self.estimator = estimator\n",
    "        self.kwargs = kwargs\n",
    "        if kwargs is not None: self.estimator.set_params(**self.kwargs)\n",
    "        return None\n",
    "    def fit(self,X,y=None):\n",
    "        return self\n",
    "    def transform(self,X,y=None):\n",
    "        return self.estimator.transform(X)"
   ]
  },
  {
   "cell_type": "markdown",
   "id": "ffbb983a-2bc5-4bea-ae70-d5356c1c8735",
   "metadata": {},
   "source": [
    "## Functions"
   ]
  },
  {
   "cell_type": "code",
   "execution_count": null,
   "id": "c2aaff29-6498-4988-83eb-42dd15f6fccd",
   "metadata": {},
   "outputs": [],
   "source": []
  },
  {
   "cell_type": "markdown",
   "id": "3ff2acfe-4297-429d-baae-c7e8d8927482",
   "metadata": {},
   "source": [
    "## Loading Dataset"
   ]
  },
  {
   "cell_type": "code",
   "execution_count": 2,
   "id": "4eccdc31-3dbe-4c59-b773-64a7a30ebb82",
   "metadata": {},
   "outputs": [],
   "source": [
    "rawdata = pd.read_csv(\"Datasets\\\\Raw Data\\\\CarPrice_Assignment.csv\",index_col=0)"
   ]
  },
  {
   "cell_type": "code",
   "execution_count": 5,
   "id": "d1fc14b6-ee55-40e5-b635-41de5c4151c9",
   "metadata": {},
   "outputs": [],
   "source": [
    "X_raw = rawdata.loc[:,rawdata.columns != 'price']\n",
    "y_raw = rawdata.loc[:,'price']"
   ]
  },
  {
   "cell_type": "code",
   "execution_count": 6,
   "id": "fae11fd4-5da2-4fea-8914-f06828f1dd41",
   "metadata": {},
   "outputs": [
    {
     "data": {
      "text/plain": [
       "((205, 24), (205,))"
      ]
     },
     "execution_count": 6,
     "metadata": {},
     "output_type": "execute_result"
    }
   ],
   "source": [
    "X_raw.shape,y_raw.shape"
   ]
  },
  {
   "cell_type": "markdown",
   "id": "4ba2f55f-02ad-4c24-b296-4ca5b95c89fd",
   "metadata": {},
   "source": [
    "## Splitting Train and Test Datasets"
   ]
  },
  {
   "cell_type": "code",
   "execution_count": 114,
   "id": "a8e3bb64-7bd6-4f34-b685-187aa027fd34",
   "metadata": {},
   "outputs": [],
   "source": [
    "X_train,X_test,y_train,y_test = train_test_split(X_raw,y_raw,test_size=0.2,random_state=19,stratify=pd.cut(y_raw,[5000,7000,9000,11000,13000,15000,17000,19000,21000,26000,31000,36000,50000]))"
   ]
  },
  {
   "cell_type": "code",
   "execution_count": 84,
   "id": "3a7ac9d9-4f01-4f6b-9cc5-caea57c411b2",
   "metadata": {},
   "outputs": [
    {
     "data": {
      "text/plain": [
       "['Datasets\\\\y_test.pkl']"
      ]
     },
     "execution_count": 84,
     "metadata": {},
     "output_type": "execute_result"
    }
   ],
   "source": [
    "savingpath = \"Datasets\\\\\"\n",
    "joblib.dump(X_train,savingpath+\"X_train.pkl\",compress=9)\n",
    "joblib.dump(X_test,savingpath+\"X_test.pkl\",compress=9)\n",
    "joblib.dump(y_train,savingpath+\"y_train.pkl\",compress=9)\n",
    "joblib.dump(y_test,savingpath+\"y_test.pkl\",compress=9)"
   ]
  },
  {
   "cell_type": "markdown",
   "id": "75bf53df-84c8-4bf0-a086-68d061dc2ae9",
   "metadata": {
    "toc-hr-collapsed": true
   },
   "source": [
    "## Pipeline"
   ]
  },
  {
   "cell_type": "code",
   "execution_count": 115,
   "id": "75589b19-04b5-4ceb-ab01-17be1df0c3af",
   "metadata": {},
   "outputs": [],
   "source": [
    "cus_trans = CustomTransform(out_df=True)"
   ]
  },
  {
   "cell_type": "code",
   "execution_count": 116,
   "id": "5b81fa30-a2d0-46dc-8797-248bb5070254",
   "metadata": {},
   "outputs": [
    {
     "data": {
      "text/html": [
       "<div>\n",
       "<style scoped>\n",
       "    .dataframe tbody tr th:only-of-type {\n",
       "        vertical-align: middle;\n",
       "    }\n",
       "\n",
       "    .dataframe tbody tr th {\n",
       "        vertical-align: top;\n",
       "    }\n",
       "\n",
       "    .dataframe thead th {\n",
       "        text-align: right;\n",
       "    }\n",
       "</style>\n",
       "<table border=\"1\" class=\"dataframe\">\n",
       "  <thead>\n",
       "    <tr style=\"text-align: right;\">\n",
       "      <th></th>\n",
       "      <th>symboling</th>\n",
       "      <th>fueltype</th>\n",
       "      <th>aspiration</th>\n",
       "      <th>doornumber</th>\n",
       "      <th>carbody</th>\n",
       "      <th>drivewheel</th>\n",
       "      <th>enginelocation</th>\n",
       "      <th>wheelbase</th>\n",
       "      <th>carlength</th>\n",
       "      <th>carwidth</th>\n",
       "      <th>...</th>\n",
       "      <th>enginesize</th>\n",
       "      <th>fuelsystem</th>\n",
       "      <th>boreratio</th>\n",
       "      <th>stroke</th>\n",
       "      <th>compressionratio</th>\n",
       "      <th>horsepower</th>\n",
       "      <th>peakrpm</th>\n",
       "      <th>citympg</th>\n",
       "      <th>highwaympg</th>\n",
       "      <th>make</th>\n",
       "    </tr>\n",
       "    <tr>\n",
       "      <th>car_ID</th>\n",
       "      <th></th>\n",
       "      <th></th>\n",
       "      <th></th>\n",
       "      <th></th>\n",
       "      <th></th>\n",
       "      <th></th>\n",
       "      <th></th>\n",
       "      <th></th>\n",
       "      <th></th>\n",
       "      <th></th>\n",
       "      <th></th>\n",
       "      <th></th>\n",
       "      <th></th>\n",
       "      <th></th>\n",
       "      <th></th>\n",
       "      <th></th>\n",
       "      <th></th>\n",
       "      <th></th>\n",
       "      <th></th>\n",
       "      <th></th>\n",
       "      <th></th>\n",
       "    </tr>\n",
       "  </thead>\n",
       "  <tbody>\n",
       "    <tr>\n",
       "      <th>189</th>\n",
       "      <td>2</td>\n",
       "      <td>gas</td>\n",
       "      <td>std</td>\n",
       "      <td>4</td>\n",
       "      <td>sedan</td>\n",
       "      <td>fwd</td>\n",
       "      <td>front</td>\n",
       "      <td>97.3</td>\n",
       "      <td>171.7</td>\n",
       "      <td>65.5</td>\n",
       "      <td>...</td>\n",
       "      <td>109</td>\n",
       "      <td>mpfi</td>\n",
       "      <td>3.19</td>\n",
       "      <td>3.40</td>\n",
       "      <td>10.0</td>\n",
       "      <td>100</td>\n",
       "      <td>5500</td>\n",
       "      <td>26</td>\n",
       "      <td>32</td>\n",
       "      <td>volkswagen</td>\n",
       "    </tr>\n",
       "    <tr>\n",
       "      <th>92</th>\n",
       "      <td>1</td>\n",
       "      <td>gas</td>\n",
       "      <td>std</td>\n",
       "      <td>2</td>\n",
       "      <td>sedan</td>\n",
       "      <td>fwd</td>\n",
       "      <td>front</td>\n",
       "      <td>94.5</td>\n",
       "      <td>165.3</td>\n",
       "      <td>63.8</td>\n",
       "      <td>...</td>\n",
       "      <td>97</td>\n",
       "      <td>2bbl</td>\n",
       "      <td>3.15</td>\n",
       "      <td>3.29</td>\n",
       "      <td>9.4</td>\n",
       "      <td>69</td>\n",
       "      <td>5200</td>\n",
       "      <td>31</td>\n",
       "      <td>37</td>\n",
       "      <td>nissan</td>\n",
       "    </tr>\n",
       "    <tr>\n",
       "      <th>192</th>\n",
       "      <td>0</td>\n",
       "      <td>gas</td>\n",
       "      <td>std</td>\n",
       "      <td>4</td>\n",
       "      <td>sedan</td>\n",
       "      <td>fwd</td>\n",
       "      <td>front</td>\n",
       "      <td>100.4</td>\n",
       "      <td>180.2</td>\n",
       "      <td>66.9</td>\n",
       "      <td>...</td>\n",
       "      <td>136</td>\n",
       "      <td>mpfi</td>\n",
       "      <td>3.19</td>\n",
       "      <td>3.40</td>\n",
       "      <td>8.5</td>\n",
       "      <td>110</td>\n",
       "      <td>5500</td>\n",
       "      <td>19</td>\n",
       "      <td>24</td>\n",
       "      <td>volkswagen</td>\n",
       "    </tr>\n",
       "    <tr>\n",
       "      <th>1</th>\n",
       "      <td>3</td>\n",
       "      <td>gas</td>\n",
       "      <td>std</td>\n",
       "      <td>2</td>\n",
       "      <td>convertible</td>\n",
       "      <td>rwd</td>\n",
       "      <td>front</td>\n",
       "      <td>88.6</td>\n",
       "      <td>168.8</td>\n",
       "      <td>64.1</td>\n",
       "      <td>...</td>\n",
       "      <td>130</td>\n",
       "      <td>mpfi</td>\n",
       "      <td>3.47</td>\n",
       "      <td>2.68</td>\n",
       "      <td>9.0</td>\n",
       "      <td>111</td>\n",
       "      <td>5000</td>\n",
       "      <td>21</td>\n",
       "      <td>27</td>\n",
       "      <td>alfa-romero</td>\n",
       "    </tr>\n",
       "    <tr>\n",
       "      <th>45</th>\n",
       "      <td>1</td>\n",
       "      <td>gas</td>\n",
       "      <td>std</td>\n",
       "      <td>2</td>\n",
       "      <td>sedan</td>\n",
       "      <td>fwd</td>\n",
       "      <td>front</td>\n",
       "      <td>94.5</td>\n",
       "      <td>155.9</td>\n",
       "      <td>63.6</td>\n",
       "      <td>...</td>\n",
       "      <td>90</td>\n",
       "      <td>2bbl</td>\n",
       "      <td>3.03</td>\n",
       "      <td>3.11</td>\n",
       "      <td>9.6</td>\n",
       "      <td>70</td>\n",
       "      <td>5400</td>\n",
       "      <td>38</td>\n",
       "      <td>43</td>\n",
       "      <td>isuzu</td>\n",
       "    </tr>\n",
       "  </tbody>\n",
       "</table>\n",
       "<p>5 rows × 24 columns</p>\n",
       "</div>"
      ],
      "text/plain": [
       "        symboling fueltype aspiration  doornumber      carbody drivewheel  \\\n",
       "car_ID                                                                      \n",
       "189             2      gas        std           4        sedan        fwd   \n",
       "92              1      gas        std           2        sedan        fwd   \n",
       "192             0      gas        std           4        sedan        fwd   \n",
       "1               3      gas        std           2  convertible        rwd   \n",
       "45              1      gas        std           2        sedan        fwd   \n",
       "\n",
       "       enginelocation  wheelbase  carlength  carwidth  ...  enginesize  \\\n",
       "car_ID                                                 ...               \n",
       "189             front       97.3      171.7      65.5  ...         109   \n",
       "92              front       94.5      165.3      63.8  ...          97   \n",
       "192             front      100.4      180.2      66.9  ...         136   \n",
       "1               front       88.6      168.8      64.1  ...         130   \n",
       "45              front       94.5      155.9      63.6  ...          90   \n",
       "\n",
       "        fuelsystem boreratio  stroke  compressionratio horsepower  peakrpm  \\\n",
       "car_ID                                                                       \n",
       "189           mpfi      3.19    3.40              10.0        100     5500   \n",
       "92            2bbl      3.15    3.29               9.4         69     5200   \n",
       "192           mpfi      3.19    3.40               8.5        110     5500   \n",
       "1             mpfi      3.47    2.68               9.0        111     5000   \n",
       "45            2bbl      3.03    3.11               9.6         70     5400   \n",
       "\n",
       "        citympg  highwaympg         make  \n",
       "car_ID                                    \n",
       "189          26          32   volkswagen  \n",
       "92           31          37       nissan  \n",
       "192          19          24   volkswagen  \n",
       "1            21          27  alfa-romero  \n",
       "45           38          43        isuzu  \n",
       "\n",
       "[5 rows x 24 columns]"
      ]
     },
     "execution_count": 116,
     "metadata": {},
     "output_type": "execute_result"
    }
   ],
   "source": [
    "X_play = cus_trans.fit_transform(X_train)\n",
    "X_play.head()"
   ]
  },
  {
   "cell_type": "code",
   "execution_count": 118,
   "id": "bea57214-e44f-490d-ae19-6c79d1d6752d",
   "metadata": {},
   "outputs": [],
   "source": [
    "num_cols = X_play.columns[X_play.dtypes.apply(lambda x: True if x == np.int64 or x == np.float64 else False)].values\n",
    "cat_cols = X_play.columns[~X_play.dtypes.apply(lambda x: True if x == np.int64 or x == np.float64 else False)].values"
   ]
  },
  {
   "cell_type": "code",
   "execution_count": 119,
   "id": "84d6ea5c-463f-47d6-8b53-607b34b45bba",
   "metadata": {},
   "outputs": [
    {
     "data": {
      "text/plain": [
       "['Datasets\\\\cat_cols.pkl']"
      ]
     },
     "execution_count": 119,
     "metadata": {},
     "output_type": "execute_result"
    }
   ],
   "source": [
    "joblib.dump(num_cols,savingpath+\"num_cols.pkl\",compress=9)\n",
    "joblib.dump(cat_cols,savingpath+\"cat_cols.pkl\",compress=9)"
   ]
  },
  {
   "cell_type": "code",
   "execution_count": 293,
   "id": "3a47dfb0-0e83-4dc7-b85d-20679a472cd1",
   "metadata": {},
   "outputs": [],
   "source": [
    "make_categories = joblib.load(\"System\\\\make_categories\")"
   ]
  },
  {
   "cell_type": "code",
   "execution_count": 309,
   "id": "7b77c07b-22f3-4381-878e-94e20bce6ec5",
   "metadata": {},
   "outputs": [],
   "source": [
    "col_trans = ColumnTransformer([\n",
    "    (\"onehot\",OneHotEncoder(),cat_cols),\n",
    "],remainder='passthrough')"
   ]
  },
  {
   "cell_type": "markdown",
   "id": "03a9797b-364d-4305-9556-5c2c120f7e36",
   "metadata": {},
   "source": [
    "Training col_trans with raw data so that the one-hot encoder is exposed to every possible categories"
   ]
  },
  {
   "cell_type": "code",
   "execution_count": 575,
   "id": "f3942af9-3484-4707-87d0-63c055a783c5",
   "metadata": {},
   "outputs": [
    {
     "data": {
      "text/html": [
       "<style>#sk-container-id-42 {color: black;background-color: white;}#sk-container-id-42 pre{padding: 0;}#sk-container-id-42 div.sk-toggleable {background-color: white;}#sk-container-id-42 label.sk-toggleable__label {cursor: pointer;display: block;width: 100%;margin-bottom: 0;padding: 0.3em;box-sizing: border-box;text-align: center;}#sk-container-id-42 label.sk-toggleable__label-arrow:before {content: \"▸\";float: left;margin-right: 0.25em;color: #696969;}#sk-container-id-42 label.sk-toggleable__label-arrow:hover:before {color: black;}#sk-container-id-42 div.sk-estimator:hover label.sk-toggleable__label-arrow:before {color: black;}#sk-container-id-42 div.sk-toggleable__content {max-height: 0;max-width: 0;overflow: hidden;text-align: left;background-color: #f0f8ff;}#sk-container-id-42 div.sk-toggleable__content pre {margin: 0.2em;color: black;border-radius: 0.25em;background-color: #f0f8ff;}#sk-container-id-42 input.sk-toggleable__control:checked~div.sk-toggleable__content {max-height: 200px;max-width: 100%;overflow: auto;}#sk-container-id-42 input.sk-toggleable__control:checked~label.sk-toggleable__label-arrow:before {content: \"▾\";}#sk-container-id-42 div.sk-estimator input.sk-toggleable__control:checked~label.sk-toggleable__label {background-color: #d4ebff;}#sk-container-id-42 div.sk-label input.sk-toggleable__control:checked~label.sk-toggleable__label {background-color: #d4ebff;}#sk-container-id-42 input.sk-hidden--visually {border: 0;clip: rect(1px 1px 1px 1px);clip: rect(1px, 1px, 1px, 1px);height: 1px;margin: -1px;overflow: hidden;padding: 0;position: absolute;width: 1px;}#sk-container-id-42 div.sk-estimator {font-family: monospace;background-color: #f0f8ff;border: 1px dotted black;border-radius: 0.25em;box-sizing: border-box;margin-bottom: 0.5em;}#sk-container-id-42 div.sk-estimator:hover {background-color: #d4ebff;}#sk-container-id-42 div.sk-parallel-item::after {content: \"\";width: 100%;border-bottom: 1px solid gray;flex-grow: 1;}#sk-container-id-42 div.sk-label:hover label.sk-toggleable__label {background-color: #d4ebff;}#sk-container-id-42 div.sk-serial::before {content: \"\";position: absolute;border-left: 1px solid gray;box-sizing: border-box;top: 0;bottom: 0;left: 50%;z-index: 0;}#sk-container-id-42 div.sk-serial {display: flex;flex-direction: column;align-items: center;background-color: white;padding-right: 0.2em;padding-left: 0.2em;position: relative;}#sk-container-id-42 div.sk-item {position: relative;z-index: 1;}#sk-container-id-42 div.sk-parallel {display: flex;align-items: stretch;justify-content: center;background-color: white;position: relative;}#sk-container-id-42 div.sk-item::before, #sk-container-id-42 div.sk-parallel-item::before {content: \"\";position: absolute;border-left: 1px solid gray;box-sizing: border-box;top: 0;bottom: 0;left: 50%;z-index: -1;}#sk-container-id-42 div.sk-parallel-item {display: flex;flex-direction: column;z-index: 1;position: relative;background-color: white;}#sk-container-id-42 div.sk-parallel-item:first-child::after {align-self: flex-end;width: 50%;}#sk-container-id-42 div.sk-parallel-item:last-child::after {align-self: flex-start;width: 50%;}#sk-container-id-42 div.sk-parallel-item:only-child::after {width: 0;}#sk-container-id-42 div.sk-dashed-wrapped {border: 1px dashed gray;margin: 0 0.4em 0.5em 0.4em;box-sizing: border-box;padding-bottom: 0.4em;background-color: white;}#sk-container-id-42 div.sk-label label {font-family: monospace;font-weight: bold;display: inline-block;line-height: 1.2em;}#sk-container-id-42 div.sk-label-container {text-align: center;}#sk-container-id-42 div.sk-container {/* jupyter's `normalize.less` sets `[hidden] { display: none; }` but bootstrap.min.css set `[hidden] { display: none !important; }` so we also need the `!important` here to be able to override the default hidden behavior on the sphinx rendered scikit-learn.org. See: https://github.com/scikit-learn/scikit-learn/issues/21755 */display: inline-block !important;position: relative;}#sk-container-id-42 div.sk-text-repr-fallback {display: none;}</style><div id=\"sk-container-id-42\" class=\"sk-top-container\"><div class=\"sk-text-repr-fallback\"><pre>ColumnTransformer(remainder=&#x27;passthrough&#x27;,\n",
       "                  transformers=[(&#x27;onehot&#x27;, OneHotEncoder(),\n",
       "                                 array([&#x27;fueltype&#x27;, &#x27;aspiration&#x27;, &#x27;carbody&#x27;, &#x27;drivewheel&#x27;,\n",
       "       &#x27;enginelocation&#x27;, &#x27;enginetype&#x27;, &#x27;fuelsystem&#x27;, &#x27;make&#x27;], dtype=object))])</pre><b>In a Jupyter environment, please rerun this cell to show the HTML representation or trust the notebook. <br />On GitHub, the HTML representation is unable to render, please try loading this page with nbviewer.org.</b></div><div class=\"sk-container\" hidden><div class=\"sk-item sk-dashed-wrapped\"><div class=\"sk-label-container\"><div class=\"sk-label sk-toggleable\"><input class=\"sk-toggleable__control sk-hidden--visually\" id=\"sk-estimator-id-132\" type=\"checkbox\" ><label for=\"sk-estimator-id-132\" class=\"sk-toggleable__label sk-toggleable__label-arrow\">ColumnTransformer</label><div class=\"sk-toggleable__content\"><pre>ColumnTransformer(remainder=&#x27;passthrough&#x27;,\n",
       "                  transformers=[(&#x27;onehot&#x27;, OneHotEncoder(),\n",
       "                                 array([&#x27;fueltype&#x27;, &#x27;aspiration&#x27;, &#x27;carbody&#x27;, &#x27;drivewheel&#x27;,\n",
       "       &#x27;enginelocation&#x27;, &#x27;enginetype&#x27;, &#x27;fuelsystem&#x27;, &#x27;make&#x27;], dtype=object))])</pre></div></div></div><div class=\"sk-parallel\"><div class=\"sk-parallel-item\"><div class=\"sk-item\"><div class=\"sk-label-container\"><div class=\"sk-label sk-toggleable\"><input class=\"sk-toggleable__control sk-hidden--visually\" id=\"sk-estimator-id-133\" type=\"checkbox\" ><label for=\"sk-estimator-id-133\" class=\"sk-toggleable__label sk-toggleable__label-arrow\">onehot</label><div class=\"sk-toggleable__content\"><pre>[&#x27;fueltype&#x27; &#x27;aspiration&#x27; &#x27;carbody&#x27; &#x27;drivewheel&#x27; &#x27;enginelocation&#x27;\n",
       " &#x27;enginetype&#x27; &#x27;fuelsystem&#x27; &#x27;make&#x27;]</pre></div></div></div><div class=\"sk-serial\"><div class=\"sk-item\"><div class=\"sk-estimator sk-toggleable\"><input class=\"sk-toggleable__control sk-hidden--visually\" id=\"sk-estimator-id-134\" type=\"checkbox\" ><label for=\"sk-estimator-id-134\" class=\"sk-toggleable__label sk-toggleable__label-arrow\">OneHotEncoder</label><div class=\"sk-toggleable__content\"><pre>OneHotEncoder()</pre></div></div></div></div></div></div><div class=\"sk-parallel-item\"><div class=\"sk-item\"><div class=\"sk-label-container\"><div class=\"sk-label sk-toggleable\"><input class=\"sk-toggleable__control sk-hidden--visually\" id=\"sk-estimator-id-135\" type=\"checkbox\" ><label for=\"sk-estimator-id-135\" class=\"sk-toggleable__label sk-toggleable__label-arrow\">remainder</label><div class=\"sk-toggleable__content\"><pre>[&#x27;symboling&#x27;, &#x27;doornumber&#x27;, &#x27;wheelbase&#x27;, &#x27;carlength&#x27;, &#x27;carwidth&#x27;, &#x27;carheight&#x27;, &#x27;curbweight&#x27;, &#x27;cylindernumber&#x27;, &#x27;enginesize&#x27;, &#x27;boreratio&#x27;, &#x27;stroke&#x27;, &#x27;compressionratio&#x27;, &#x27;horsepower&#x27;, &#x27;peakrpm&#x27;, &#x27;citympg&#x27;, &#x27;highwaympg&#x27;]</pre></div></div></div><div class=\"sk-serial\"><div class=\"sk-item\"><div class=\"sk-estimator sk-toggleable\"><input class=\"sk-toggleable__control sk-hidden--visually\" id=\"sk-estimator-id-136\" type=\"checkbox\" ><label for=\"sk-estimator-id-136\" class=\"sk-toggleable__label sk-toggleable__label-arrow\">passthrough</label><div class=\"sk-toggleable__content\"><pre>passthrough</pre></div></div></div></div></div></div></div></div></div></div>"
      ],
      "text/plain": [
       "ColumnTransformer(remainder='passthrough',\n",
       "                  transformers=[('onehot', OneHotEncoder(),\n",
       "                                 array(['fueltype', 'aspiration', 'carbody', 'drivewheel',\n",
       "       'enginelocation', 'enginetype', 'fuelsystem', 'make'], dtype=object))])"
      ]
     },
     "execution_count": 575,
     "metadata": {},
     "output_type": "execute_result"
    }
   ],
   "source": [
    "col_trans.fit(CustomTransform(out_df=True).fit_transform(X_raw.copy()))"
   ]
  },
  {
   "cell_type": "code",
   "execution_count": 319,
   "id": "c0513553-1aa8-495a-acff-34255b375ff1",
   "metadata": {},
   "outputs": [
    {
     "data": {
      "text/plain": [
       "['Trained Models\\\\Transformers\\\\col_trans.pkl']"
      ]
     },
     "execution_count": 319,
     "metadata": {},
     "output_type": "execute_result"
    }
   ],
   "source": [
    "joblib.dump(col_trans,\"Trained Models\\\\Transformers\\\\col_trans.pkl\")"
   ]
  },
  {
   "cell_type": "code",
   "execution_count": 725,
   "id": "71013df7-d67d-4326-ba92-f35bde49b7b1",
   "metadata": {},
   "outputs": [],
   "source": [
    "pipe_train = Pipeline([\n",
    "    (\"custrans\",CustomTransform(out_df=True)),\n",
    "    (\"col_trans\",TrainedTransformer(col_trans)),\n",
    "    (\"fea_sel\",SelectPercentile(f_regression,percentile=100)),\n",
    "    (\"std_scale\",MyScaler('std',with_mean=False))\n",
    "])"
   ]
  },
  {
   "cell_type": "code",
   "execution_count": 727,
   "id": "0dae237f-98d7-4f73-af73-f9adc37ef09d",
   "metadata": {
    "tags": []
   },
   "outputs": [
    {
     "data": {
      "text/plain": [
       "array([[ 0.        ,  3.46900627,  2.55409579, ..., 11.53382903,\n",
       "         4.03884412,  4.69054043],\n",
       "       [ 0.        ,  3.46900627,  2.55409579, ..., 10.90471108,\n",
       "         4.81554492,  5.42343737],\n",
       "       [ 0.        ,  3.46900627,  2.55409579, ..., 11.53382903,\n",
       "         2.95146301,  3.51790532],\n",
       "       ...,\n",
       "       [ 0.        ,  3.46900627,  2.55409579, ..., 11.32412304,\n",
       "         2.48544254,  3.22474654],\n",
       "       [ 0.        ,  3.46900627,  2.55409579, ..., 12.58235894,\n",
       "         2.48544254,  3.37132593],\n",
       "       [ 0.        ,  3.46900627,  2.55409579, ..., 12.05809398,\n",
       "         2.6407827 ,  4.10422287]])"
      ]
     },
     "execution_count": 727,
     "metadata": {},
     "output_type": "execute_result"
    }
   ],
   "source": [
    "X_train_trans = pipe_train.fit_transform(X_train.copy(),y_train.copy())\n",
    "X_train_trans"
   ]
  },
  {
   "cell_type": "code",
   "execution_count": 329,
   "id": "a0657f86-02f5-4b38-8d4e-526d1d51adc5",
   "metadata": {},
   "outputs": [],
   "source": [
    "pd.DataFrame(X_train_trans).to_csv('X_train_trans.csv')"
   ]
  },
  {
   "cell_type": "code",
   "execution_count": 733,
   "id": "d1e1b83d-329c-437f-936a-883fc361ac8f",
   "metadata": {
    "tags": []
   },
   "outputs": [
    {
     "data": {
      "text/plain": [
       "array([[ 3.05595957,  0.        ,  0.        , ...,  8.81032831,\n",
       "         4.08145692,  4.68927471],\n",
       "       [ 0.        ,  3.05595957,  2.82926879, ...,  9.55336804,\n",
       "         2.04072846,  2.27358774],\n",
       "       [ 0.        ,  3.05595957,  2.82926879, ..., 11.03944751,\n",
       "         4.51875587,  5.25767164],\n",
       "       ...,\n",
       "       [ 0.        ,  3.05595957,  2.82926879, ..., 11.67633872,\n",
       "         3.49839164,  4.12087777],\n",
       "       [ 0.        ,  3.05595957,  2.82926879, ..., 12.73782406,\n",
       "         4.37298955,  4.83137394],\n",
       "       [ 3.05595957,  0.        ,  2.82926879, ...,  9.87181364,\n",
       "         5.24758747,  5.96816781]])"
      ]
     },
     "execution_count": 733,
     "metadata": {},
     "output_type": "execute_result"
    }
   ],
   "source": [
    "X_test_trans = pipe_train.transform(X_test.copy())\n",
    "X_test_trans"
   ]
  },
  {
   "cell_type": "code",
   "execution_count": 328,
   "id": "a87935ef-b4ec-47b1-b774-59fcb4e8aca3",
   "metadata": {},
   "outputs": [],
   "source": [
    "pd.DataFrame(X_test_trans).to_csv('X_test_trans.csv')"
   ]
  },
  {
   "cell_type": "markdown",
   "id": "d72e8456-f296-4e24-96e7-92adb8f86667",
   "metadata": {},
   "source": [
    "## Models Testing"
   ]
  },
  {
   "cell_type": "markdown",
   "id": "5e847431-ceba-44cd-82fb-5b65763a81b1",
   "metadata": {},
   "source": [
    "Due to the lack of samples (only 205 samples in total), so I decided not to conduct cross-validation.\\\n",
    "We will directly evaluate the model's performance with the test dataset."
   ]
  },
  {
   "cell_type": "markdown",
   "id": "238335ea-d1a7-4b5e-b949-4313c30c60d2",
   "metadata": {},
   "source": [
    "### Linear Regression"
   ]
  },
  {
   "cell_type": "code",
   "execution_count": 330,
   "id": "fa1c4954-263d-4b9a-a22a-7e83925946cf",
   "metadata": {},
   "outputs": [],
   "source": [
    "lin = LinearRegression()"
   ]
  },
  {
   "cell_type": "code",
   "execution_count": 331,
   "id": "98054052-0478-443b-848d-2e713b42d4b3",
   "metadata": {},
   "outputs": [
    {
     "data": {
      "text/html": [
       "<style>#sk-container-id-18 {color: black;background-color: white;}#sk-container-id-18 pre{padding: 0;}#sk-container-id-18 div.sk-toggleable {background-color: white;}#sk-container-id-18 label.sk-toggleable__label {cursor: pointer;display: block;width: 100%;margin-bottom: 0;padding: 0.3em;box-sizing: border-box;text-align: center;}#sk-container-id-18 label.sk-toggleable__label-arrow:before {content: \"▸\";float: left;margin-right: 0.25em;color: #696969;}#sk-container-id-18 label.sk-toggleable__label-arrow:hover:before {color: black;}#sk-container-id-18 div.sk-estimator:hover label.sk-toggleable__label-arrow:before {color: black;}#sk-container-id-18 div.sk-toggleable__content {max-height: 0;max-width: 0;overflow: hidden;text-align: left;background-color: #f0f8ff;}#sk-container-id-18 div.sk-toggleable__content pre {margin: 0.2em;color: black;border-radius: 0.25em;background-color: #f0f8ff;}#sk-container-id-18 input.sk-toggleable__control:checked~div.sk-toggleable__content {max-height: 200px;max-width: 100%;overflow: auto;}#sk-container-id-18 input.sk-toggleable__control:checked~label.sk-toggleable__label-arrow:before {content: \"▾\";}#sk-container-id-18 div.sk-estimator input.sk-toggleable__control:checked~label.sk-toggleable__label {background-color: #d4ebff;}#sk-container-id-18 div.sk-label input.sk-toggleable__control:checked~label.sk-toggleable__label {background-color: #d4ebff;}#sk-container-id-18 input.sk-hidden--visually {border: 0;clip: rect(1px 1px 1px 1px);clip: rect(1px, 1px, 1px, 1px);height: 1px;margin: -1px;overflow: hidden;padding: 0;position: absolute;width: 1px;}#sk-container-id-18 div.sk-estimator {font-family: monospace;background-color: #f0f8ff;border: 1px dotted black;border-radius: 0.25em;box-sizing: border-box;margin-bottom: 0.5em;}#sk-container-id-18 div.sk-estimator:hover {background-color: #d4ebff;}#sk-container-id-18 div.sk-parallel-item::after {content: \"\";width: 100%;border-bottom: 1px solid gray;flex-grow: 1;}#sk-container-id-18 div.sk-label:hover label.sk-toggleable__label {background-color: #d4ebff;}#sk-container-id-18 div.sk-serial::before {content: \"\";position: absolute;border-left: 1px solid gray;box-sizing: border-box;top: 0;bottom: 0;left: 50%;z-index: 0;}#sk-container-id-18 div.sk-serial {display: flex;flex-direction: column;align-items: center;background-color: white;padding-right: 0.2em;padding-left: 0.2em;position: relative;}#sk-container-id-18 div.sk-item {position: relative;z-index: 1;}#sk-container-id-18 div.sk-parallel {display: flex;align-items: stretch;justify-content: center;background-color: white;position: relative;}#sk-container-id-18 div.sk-item::before, #sk-container-id-18 div.sk-parallel-item::before {content: \"\";position: absolute;border-left: 1px solid gray;box-sizing: border-box;top: 0;bottom: 0;left: 50%;z-index: -1;}#sk-container-id-18 div.sk-parallel-item {display: flex;flex-direction: column;z-index: 1;position: relative;background-color: white;}#sk-container-id-18 div.sk-parallel-item:first-child::after {align-self: flex-end;width: 50%;}#sk-container-id-18 div.sk-parallel-item:last-child::after {align-self: flex-start;width: 50%;}#sk-container-id-18 div.sk-parallel-item:only-child::after {width: 0;}#sk-container-id-18 div.sk-dashed-wrapped {border: 1px dashed gray;margin: 0 0.4em 0.5em 0.4em;box-sizing: border-box;padding-bottom: 0.4em;background-color: white;}#sk-container-id-18 div.sk-label label {font-family: monospace;font-weight: bold;display: inline-block;line-height: 1.2em;}#sk-container-id-18 div.sk-label-container {text-align: center;}#sk-container-id-18 div.sk-container {/* jupyter's `normalize.less` sets `[hidden] { display: none; }` but bootstrap.min.css set `[hidden] { display: none !important; }` so we also need the `!important` here to be able to override the default hidden behavior on the sphinx rendered scikit-learn.org. See: https://github.com/scikit-learn/scikit-learn/issues/21755 */display: inline-block !important;position: relative;}#sk-container-id-18 div.sk-text-repr-fallback {display: none;}</style><div id=\"sk-container-id-18\" class=\"sk-top-container\"><div class=\"sk-text-repr-fallback\"><pre>LinearRegression()</pre><b>In a Jupyter environment, please rerun this cell to show the HTML representation or trust the notebook. <br />On GitHub, the HTML representation is unable to render, please try loading this page with nbviewer.org.</b></div><div class=\"sk-container\" hidden><div class=\"sk-item\"><div class=\"sk-estimator sk-toggleable\"><input class=\"sk-toggleable__control sk-hidden--visually\" id=\"sk-estimator-id-23\" type=\"checkbox\" checked><label for=\"sk-estimator-id-23\" class=\"sk-toggleable__label sk-toggleable__label-arrow\">LinearRegression</label><div class=\"sk-toggleable__content\"><pre>LinearRegression()</pre></div></div></div></div></div>"
      ],
      "text/plain": [
       "LinearRegression()"
      ]
     },
     "execution_count": 331,
     "metadata": {},
     "output_type": "execute_result"
    }
   ],
   "source": [
    "lin.fit(X_train_trans,y_train.copy())"
   ]
  },
  {
   "cell_type": "code",
   "execution_count": 332,
   "id": "f2efcf7a-cea7-4ba2-aa70-1644541d66eb",
   "metadata": {},
   "outputs": [],
   "source": [
    "lin_train_yhat = lin.predict(X_train_trans)"
   ]
  },
  {
   "cell_type": "code",
   "execution_count": 333,
   "id": "b66b1840-77bf-4e02-8934-06e9e561fe0f",
   "metadata": {},
   "outputs": [
    {
     "data": {
      "text/plain": [
       "0.9638392532431698"
      ]
     },
     "execution_count": 333,
     "metadata": {},
     "output_type": "execute_result"
    }
   ],
   "source": [
    "lin_train_r2 = r2_score(y_train,lin_train_yhat)\n",
    "lin_train_r2"
   ]
  },
  {
   "cell_type": "code",
   "execution_count": 334,
   "id": "36e366e5-cc35-4fa7-bbdd-23af1978b0d2",
   "metadata": {},
   "outputs": [
    {
     "data": {
      "text/plain": [
       "1509.0132559906228"
      ]
     },
     "execution_count": 334,
     "metadata": {},
     "output_type": "execute_result"
    }
   ],
   "source": [
    "lin_train_rmse = mean_squared_error(y_train,lin_train_yhat,squared=False)\n",
    "lin_train_rmse"
   ]
  },
  {
   "cell_type": "code",
   "execution_count": 335,
   "id": "8ece8fae-04af-408e-9272-5e644492ed28",
   "metadata": {
    "tags": []
   },
   "outputs": [],
   "source": [
    "lin_test_yhat = lin.predict(X_test_trans)"
   ]
  },
  {
   "cell_type": "code",
   "execution_count": 336,
   "id": "8f0272fb-b0ff-4056-9815-06b853ab5b41",
   "metadata": {},
   "outputs": [
    {
     "data": {
      "text/plain": [
       "-8.767796968919184e+24"
      ]
     },
     "execution_count": 336,
     "metadata": {},
     "output_type": "execute_result"
    }
   ],
   "source": [
    "lin_test_r2 = r2_score(y_test,lin_test_yhat)\n",
    "lin_test_r2"
   ]
  },
  {
   "cell_type": "code",
   "execution_count": 337,
   "id": "cea2850e-a3a3-44b6-a712-b26eadf23592",
   "metadata": {},
   "outputs": [
    {
     "data": {
      "text/plain": [
       "2.3993540366363348e+16"
      ]
     },
     "execution_count": 337,
     "metadata": {},
     "output_type": "execute_result"
    }
   ],
   "source": [
    "lin_test_rmse = mean_squared_error(y_test,lin_test_yhat,squared=False)\n",
    "lin_test_rmse"
   ]
  },
  {
   "cell_type": "markdown",
   "id": "a7c2345b-d65d-41ec-910d-d3f081e56f55",
   "metadata": {},
   "source": [
    "Linear Regression is definitely overfitting for training dataset."
   ]
  },
  {
   "cell_type": "markdown",
   "id": "47fb8d48-6aa5-4fb2-aeb2-cc36f508406d",
   "metadata": {},
   "source": [
    "#### Saving the model"
   ]
  },
  {
   "cell_type": "code",
   "execution_count": 1984,
   "id": "0cc5f659-7268-4cb3-8c10-8869db044a86",
   "metadata": {},
   "outputs": [],
   "source": [
    "lin_yhats = {\n",
    "    \"lin_train_yhat\":lin_train_yhat,\n",
    "    \"lin_test_yhat\":lin_test_yhat,\n",
    "}"
   ]
  },
  {
   "cell_type": "code",
   "execution_count": 1985,
   "id": "c6a396eb-d1b0-4254-b3cd-e0f4e86d6e7e",
   "metadata": {},
   "outputs": [],
   "source": [
    "lin_scores = {\n",
    "    \"lin_train_r2\":lin_train_r2,\n",
    "    \"lin_train_rmse\":lin_train_rmse,\n",
    "    \"lin_test_r2\":lin_test_r2,\n",
    "    \"lin_test_rmse\":lin_test_rmse,\n",
    "}"
   ]
  },
  {
   "cell_type": "code",
   "execution_count": 2000,
   "id": "ad8e02eb-193e-4d57-b705-77ca10ae7868",
   "metadata": {},
   "outputs": [],
   "source": [
    "dump_model(lin,yhat=lin_yhats,scores=lin_scores)"
   ]
  },
  {
   "cell_type": "markdown",
   "id": "65709d5f-ee68-47ba-a060-689365a7b6db",
   "metadata": {},
   "source": [
    "### Ridge Regression"
   ]
  },
  {
   "cell_type": "code",
   "execution_count": 381,
   "id": "976dd418-2f21-4e51-9bc1-b6e812bea007",
   "metadata": {},
   "outputs": [
    {
     "data": {
      "text/html": [
       "<style>#sk-container-id-24 {color: black;background-color: white;}#sk-container-id-24 pre{padding: 0;}#sk-container-id-24 div.sk-toggleable {background-color: white;}#sk-container-id-24 label.sk-toggleable__label {cursor: pointer;display: block;width: 100%;margin-bottom: 0;padding: 0.3em;box-sizing: border-box;text-align: center;}#sk-container-id-24 label.sk-toggleable__label-arrow:before {content: \"▸\";float: left;margin-right: 0.25em;color: #696969;}#sk-container-id-24 label.sk-toggleable__label-arrow:hover:before {color: black;}#sk-container-id-24 div.sk-estimator:hover label.sk-toggleable__label-arrow:before {color: black;}#sk-container-id-24 div.sk-toggleable__content {max-height: 0;max-width: 0;overflow: hidden;text-align: left;background-color: #f0f8ff;}#sk-container-id-24 div.sk-toggleable__content pre {margin: 0.2em;color: black;border-radius: 0.25em;background-color: #f0f8ff;}#sk-container-id-24 input.sk-toggleable__control:checked~div.sk-toggleable__content {max-height: 200px;max-width: 100%;overflow: auto;}#sk-container-id-24 input.sk-toggleable__control:checked~label.sk-toggleable__label-arrow:before {content: \"▾\";}#sk-container-id-24 div.sk-estimator input.sk-toggleable__control:checked~label.sk-toggleable__label {background-color: #d4ebff;}#sk-container-id-24 div.sk-label input.sk-toggleable__control:checked~label.sk-toggleable__label {background-color: #d4ebff;}#sk-container-id-24 input.sk-hidden--visually {border: 0;clip: rect(1px 1px 1px 1px);clip: rect(1px, 1px, 1px, 1px);height: 1px;margin: -1px;overflow: hidden;padding: 0;position: absolute;width: 1px;}#sk-container-id-24 div.sk-estimator {font-family: monospace;background-color: #f0f8ff;border: 1px dotted black;border-radius: 0.25em;box-sizing: border-box;margin-bottom: 0.5em;}#sk-container-id-24 div.sk-estimator:hover {background-color: #d4ebff;}#sk-container-id-24 div.sk-parallel-item::after {content: \"\";width: 100%;border-bottom: 1px solid gray;flex-grow: 1;}#sk-container-id-24 div.sk-label:hover label.sk-toggleable__label {background-color: #d4ebff;}#sk-container-id-24 div.sk-serial::before {content: \"\";position: absolute;border-left: 1px solid gray;box-sizing: border-box;top: 0;bottom: 0;left: 50%;z-index: 0;}#sk-container-id-24 div.sk-serial {display: flex;flex-direction: column;align-items: center;background-color: white;padding-right: 0.2em;padding-left: 0.2em;position: relative;}#sk-container-id-24 div.sk-item {position: relative;z-index: 1;}#sk-container-id-24 div.sk-parallel {display: flex;align-items: stretch;justify-content: center;background-color: white;position: relative;}#sk-container-id-24 div.sk-item::before, #sk-container-id-24 div.sk-parallel-item::before {content: \"\";position: absolute;border-left: 1px solid gray;box-sizing: border-box;top: 0;bottom: 0;left: 50%;z-index: -1;}#sk-container-id-24 div.sk-parallel-item {display: flex;flex-direction: column;z-index: 1;position: relative;background-color: white;}#sk-container-id-24 div.sk-parallel-item:first-child::after {align-self: flex-end;width: 50%;}#sk-container-id-24 div.sk-parallel-item:last-child::after {align-self: flex-start;width: 50%;}#sk-container-id-24 div.sk-parallel-item:only-child::after {width: 0;}#sk-container-id-24 div.sk-dashed-wrapped {border: 1px dashed gray;margin: 0 0.4em 0.5em 0.4em;box-sizing: border-box;padding-bottom: 0.4em;background-color: white;}#sk-container-id-24 div.sk-label label {font-family: monospace;font-weight: bold;display: inline-block;line-height: 1.2em;}#sk-container-id-24 div.sk-label-container {text-align: center;}#sk-container-id-24 div.sk-container {/* jupyter's `normalize.less` sets `[hidden] { display: none; }` but bootstrap.min.css set `[hidden] { display: none !important; }` so we also need the `!important` here to be able to override the default hidden behavior on the sphinx rendered scikit-learn.org. See: https://github.com/scikit-learn/scikit-learn/issues/21755 */display: inline-block !important;position: relative;}#sk-container-id-24 div.sk-text-repr-fallback {display: none;}</style><div id=\"sk-container-id-24\" class=\"sk-top-container\"><div class=\"sk-text-repr-fallback\"><pre>Ridge(alpha=150)</pre><b>In a Jupyter environment, please rerun this cell to show the HTML representation or trust the notebook. <br />On GitHub, the HTML representation is unable to render, please try loading this page with nbviewer.org.</b></div><div class=\"sk-container\" hidden><div class=\"sk-item\"><div class=\"sk-estimator sk-toggleable\"><input class=\"sk-toggleable__control sk-hidden--visually\" id=\"sk-estimator-id-29\" type=\"checkbox\" checked><label for=\"sk-estimator-id-29\" class=\"sk-toggleable__label sk-toggleable__label-arrow\">Ridge</label><div class=\"sk-toggleable__content\"><pre>Ridge(alpha=150)</pre></div></div></div></div></div>"
      ],
      "text/plain": [
       "Ridge(alpha=150)"
      ]
     },
     "execution_count": 381,
     "metadata": {},
     "output_type": "execute_result"
    }
   ],
   "source": [
    "ridge = Ridge(alpha=150)\n",
    "ridge.fit(X_train_trans,y_train.copy())"
   ]
  },
  {
   "cell_type": "code",
   "execution_count": 382,
   "id": "7ee5ca28-d373-4395-aa5b-1d310dfed269",
   "metadata": {},
   "outputs": [],
   "source": [
    "ridge_train_yhat = ridge.predict(X_train_trans)"
   ]
  },
  {
   "cell_type": "code",
   "execution_count": 383,
   "id": "ef45b73b-c27f-40c9-ad06-75ad43b05265",
   "metadata": {},
   "outputs": [
    {
     "data": {
      "text/plain": [
       "0.9131826268493264"
      ]
     },
     "execution_count": 383,
     "metadata": {},
     "output_type": "execute_result"
    }
   ],
   "source": [
    "ridge_train_r2 = r2_score(y_train,ridge_train_yhat)\n",
    "ridge_train_r2"
   ]
  },
  {
   "cell_type": "code",
   "execution_count": 384,
   "id": "fa7aa393-d793-456d-a3d8-baec2c04a184",
   "metadata": {},
   "outputs": [
    {
     "data": {
      "text/plain": [
       "2338.1785937883624"
      ]
     },
     "execution_count": 384,
     "metadata": {},
     "output_type": "execute_result"
    }
   ],
   "source": [
    "ridge_train_rmse = mean_squared_error(y_train,ridge_train_yhat,squared=False)\n",
    "ridge_train_rmse"
   ]
  },
  {
   "cell_type": "code",
   "execution_count": 385,
   "id": "e8dc696b-24de-4f89-9443-a381b3af10b8",
   "metadata": {
    "tags": []
   },
   "outputs": [],
   "source": [
    "ridge_test_yhat = ridge.predict(X_test_trans)"
   ]
  },
  {
   "cell_type": "code",
   "execution_count": 386,
   "id": "dd304a5b-fcd6-4a6d-b336-2299b04f4cf0",
   "metadata": {},
   "outputs": [
    {
     "data": {
      "text/plain": [
       "0.8634984337328037"
      ]
     },
     "execution_count": 386,
     "metadata": {},
     "output_type": "execute_result"
    }
   ],
   "source": [
    "ridge_test_r2 = r2_score(y_test,ridge_test_yhat)\n",
    "ridge_test_r2"
   ]
  },
  {
   "cell_type": "code",
   "execution_count": 387,
   "id": "aa7d0e00-13a5-45f5-a668-43a607255bb5",
   "metadata": {},
   "outputs": [
    {
     "data": {
      "text/plain": [
       "2993.7664014909474"
      ]
     },
     "execution_count": 387,
     "metadata": {},
     "output_type": "execute_result"
    }
   ],
   "source": [
    "ridge_test_rmse = mean_squared_error(y_test,ridge_test_yhat,squared=False)\n",
    "ridge_test_rmse"
   ]
  },
  {
   "cell_type": "markdown",
   "id": "67f43391-a983-4e34-9466-721192e27782",
   "metadata": {},
   "source": [
    "Ridge Regression did so much better than Linear Regression due to the regularization property that it carries."
   ]
  },
  {
   "cell_type": "code",
   "execution_count": 395,
   "id": "3302d7ce-5749-4d5e-a134-3e2fdd35440e",
   "metadata": {},
   "outputs": [
    {
     "data": {
      "text/plain": [
       "array([ 121.31777597, -121.31777597,  -59.28297181,   59.28297181,\n",
       "        348.81096502,  190.53212531, -204.97145819,  103.73123827,\n",
       "       -174.14764309,  -65.07637452, -315.3006517 ,  352.74505356,\n",
       "       -475.64144254,  475.64144254,  -58.9709092 ,   63.0630709 ,\n",
       "        -92.55198188,  -41.16621205,    9.50036994,  119.102269  ,\n",
       "        152.0739118 ,  -36.99765067, -174.51550733,   43.23024563,\n",
       "        121.31777597,  -59.01262885,  176.59013864, -129.73439843,\n",
       "        -73.89565512,  -37.45578727,  156.0899001 ,  808.18335859,\n",
       "        706.70785324,  148.16736074, -117.8141489 ,  -23.42691837,\n",
       "         -3.68700906,  429.70990381,  -17.67771986,    0.        ,\n",
       "       -160.69232783, -209.20333493, -208.03017733, -131.14443675,\n",
       "        493.96358525, -127.64344761,  145.33513021, -255.64858819,\n",
       "       -421.28503703, -205.39784743,  -89.3317325 ,   54.42867566,\n",
       "        -69.56133514,  348.57944796,  379.77848156,  663.71199692,\n",
       "          8.03410276,  676.38019845,  827.10685359,  892.35344889,\n",
       "        190.45998671,   31.09859576,   76.79528599,  740.46038829,\n",
       "         86.69373404, -358.75790094, -348.41744705])"
      ]
     },
     "execution_count": 395,
     "metadata": {},
     "output_type": "execute_result"
    }
   ],
   "source": [
    "ridge.coef_"
   ]
  },
  {
   "cell_type": "markdown",
   "id": "95551d7e-5932-4e9e-9ff1-1568649fd437",
   "metadata": {},
   "source": [
    "Most of the coefficients of the trained Ridge Regression model are capped to be a very low value."
   ]
  },
  {
   "cell_type": "markdown",
   "id": "af7bd011-1907-4946-9b97-8b437e1fd2e5",
   "metadata": {},
   "source": [
    "#### Saving the model"
   ]
  },
  {
   "cell_type": "code",
   "execution_count": 1987,
   "id": "092c2043-d425-46d1-8410-8b810d0f7292",
   "metadata": {},
   "outputs": [],
   "source": [
    "ridge_yhats = {\n",
    "    \"ridge_train_yhat\":ridge_train_yhat,\n",
    "    \"ridge_test_yhat\":ridge_test_yhat,\n",
    "}"
   ]
  },
  {
   "cell_type": "code",
   "execution_count": 1988,
   "id": "af9cfd5c-05c8-4d2d-8306-3054f6626a63",
   "metadata": {},
   "outputs": [],
   "source": [
    "ridge_scores = {\n",
    "    \"ridge_train_r2\":ridge_train_r2,\n",
    "    \"ridge_train_rmse\":ridge_train_rmse,\n",
    "    \"ridge_test_r2\":ridge_test_r2,\n",
    "    \"ridge_test_rmse\":ridge_test_rmse,\n",
    "}"
   ]
  },
  {
   "cell_type": "code",
   "execution_count": 1989,
   "id": "3a72174d-4489-49e6-959d-975e8ceb9d6a",
   "metadata": {},
   "outputs": [],
   "source": [
    "dump_model(ridge,yhat=ridge_yhats,scores=ridge_scores)"
   ]
  },
  {
   "cell_type": "markdown",
   "id": "96252f8b-affc-4f07-8b41-48ff47847b1f",
   "metadata": {},
   "source": [
    "### Lasso Regression"
   ]
  },
  {
   "cell_type": "code",
   "execution_count": 438,
   "id": "c633cf84-f15d-4631-a5d3-a994ccb6f02a",
   "metadata": {},
   "outputs": [
    {
     "data": {
      "text/html": [
       "<style>#sk-container-id-32 {color: black;background-color: white;}#sk-container-id-32 pre{padding: 0;}#sk-container-id-32 div.sk-toggleable {background-color: white;}#sk-container-id-32 label.sk-toggleable__label {cursor: pointer;display: block;width: 100%;margin-bottom: 0;padding: 0.3em;box-sizing: border-box;text-align: center;}#sk-container-id-32 label.sk-toggleable__label-arrow:before {content: \"▸\";float: left;margin-right: 0.25em;color: #696969;}#sk-container-id-32 label.sk-toggleable__label-arrow:hover:before {color: black;}#sk-container-id-32 div.sk-estimator:hover label.sk-toggleable__label-arrow:before {color: black;}#sk-container-id-32 div.sk-toggleable__content {max-height: 0;max-width: 0;overflow: hidden;text-align: left;background-color: #f0f8ff;}#sk-container-id-32 div.sk-toggleable__content pre {margin: 0.2em;color: black;border-radius: 0.25em;background-color: #f0f8ff;}#sk-container-id-32 input.sk-toggleable__control:checked~div.sk-toggleable__content {max-height: 200px;max-width: 100%;overflow: auto;}#sk-container-id-32 input.sk-toggleable__control:checked~label.sk-toggleable__label-arrow:before {content: \"▾\";}#sk-container-id-32 div.sk-estimator input.sk-toggleable__control:checked~label.sk-toggleable__label {background-color: #d4ebff;}#sk-container-id-32 div.sk-label input.sk-toggleable__control:checked~label.sk-toggleable__label {background-color: #d4ebff;}#sk-container-id-32 input.sk-hidden--visually {border: 0;clip: rect(1px 1px 1px 1px);clip: rect(1px, 1px, 1px, 1px);height: 1px;margin: -1px;overflow: hidden;padding: 0;position: absolute;width: 1px;}#sk-container-id-32 div.sk-estimator {font-family: monospace;background-color: #f0f8ff;border: 1px dotted black;border-radius: 0.25em;box-sizing: border-box;margin-bottom: 0.5em;}#sk-container-id-32 div.sk-estimator:hover {background-color: #d4ebff;}#sk-container-id-32 div.sk-parallel-item::after {content: \"\";width: 100%;border-bottom: 1px solid gray;flex-grow: 1;}#sk-container-id-32 div.sk-label:hover label.sk-toggleable__label {background-color: #d4ebff;}#sk-container-id-32 div.sk-serial::before {content: \"\";position: absolute;border-left: 1px solid gray;box-sizing: border-box;top: 0;bottom: 0;left: 50%;z-index: 0;}#sk-container-id-32 div.sk-serial {display: flex;flex-direction: column;align-items: center;background-color: white;padding-right: 0.2em;padding-left: 0.2em;position: relative;}#sk-container-id-32 div.sk-item {position: relative;z-index: 1;}#sk-container-id-32 div.sk-parallel {display: flex;align-items: stretch;justify-content: center;background-color: white;position: relative;}#sk-container-id-32 div.sk-item::before, #sk-container-id-32 div.sk-parallel-item::before {content: \"\";position: absolute;border-left: 1px solid gray;box-sizing: border-box;top: 0;bottom: 0;left: 50%;z-index: -1;}#sk-container-id-32 div.sk-parallel-item {display: flex;flex-direction: column;z-index: 1;position: relative;background-color: white;}#sk-container-id-32 div.sk-parallel-item:first-child::after {align-self: flex-end;width: 50%;}#sk-container-id-32 div.sk-parallel-item:last-child::after {align-self: flex-start;width: 50%;}#sk-container-id-32 div.sk-parallel-item:only-child::after {width: 0;}#sk-container-id-32 div.sk-dashed-wrapped {border: 1px dashed gray;margin: 0 0.4em 0.5em 0.4em;box-sizing: border-box;padding-bottom: 0.4em;background-color: white;}#sk-container-id-32 div.sk-label label {font-family: monospace;font-weight: bold;display: inline-block;line-height: 1.2em;}#sk-container-id-32 div.sk-label-container {text-align: center;}#sk-container-id-32 div.sk-container {/* jupyter's `normalize.less` sets `[hidden] { display: none; }` but bootstrap.min.css set `[hidden] { display: none !important; }` so we also need the `!important` here to be able to override the default hidden behavior on the sphinx rendered scikit-learn.org. See: https://github.com/scikit-learn/scikit-learn/issues/21755 */display: inline-block !important;position: relative;}#sk-container-id-32 div.sk-text-repr-fallback {display: none;}</style><div id=\"sk-container-id-32\" class=\"sk-top-container\"><div class=\"sk-text-repr-fallback\"><pre>Lasso(alpha=1100)</pre><b>In a Jupyter environment, please rerun this cell to show the HTML representation or trust the notebook. <br />On GitHub, the HTML representation is unable to render, please try loading this page with nbviewer.org.</b></div><div class=\"sk-container\" hidden><div class=\"sk-item\"><div class=\"sk-estimator sk-toggleable\"><input class=\"sk-toggleable__control sk-hidden--visually\" id=\"sk-estimator-id-37\" type=\"checkbox\" checked><label for=\"sk-estimator-id-37\" class=\"sk-toggleable__label sk-toggleable__label-arrow\">Lasso</label><div class=\"sk-toggleable__content\"><pre>Lasso(alpha=1100)</pre></div></div></div></div></div>"
      ],
      "text/plain": [
       "Lasso(alpha=1100)"
      ]
     },
     "execution_count": 438,
     "metadata": {},
     "output_type": "execute_result"
    }
   ],
   "source": [
    "lasso = Lasso(alpha=1100)\n",
    "lasso.fit(X_train_trans,y_train.copy())"
   ]
  },
  {
   "cell_type": "code",
   "execution_count": 439,
   "id": "c5e67a19-8457-4717-bee5-73e08eeb9818",
   "metadata": {},
   "outputs": [],
   "source": [
    "lasso_train_yhat = lasso.predict(X_train_trans)"
   ]
  },
  {
   "cell_type": "code",
   "execution_count": 440,
   "id": "be3b5e35-7103-4592-87de-9ae3b0faa639",
   "metadata": {},
   "outputs": [
    {
     "data": {
      "text/plain": [
       "0.8432555833897956"
      ]
     },
     "execution_count": 440,
     "metadata": {},
     "output_type": "execute_result"
    }
   ],
   "source": [
    "lasso_train_r2 = r2_score(y_train,lasso_train_yhat)\n",
    "lasso_train_r2"
   ]
  },
  {
   "cell_type": "code",
   "execution_count": 441,
   "id": "d58292b3-cb13-4bf3-ba92-110ee872ecce",
   "metadata": {},
   "outputs": [
    {
     "data": {
      "text/plain": [
       "3141.741143579494"
      ]
     },
     "execution_count": 441,
     "metadata": {},
     "output_type": "execute_result"
    }
   ],
   "source": [
    "lasso_train_rmse = mean_squared_error(y_train,lasso_train_yhat,squared=False)\n",
    "lasso_train_rmse"
   ]
  },
  {
   "cell_type": "code",
   "execution_count": 442,
   "id": "781f6cce-5498-4109-909d-1763e3392610",
   "metadata": {
    "tags": []
   },
   "outputs": [],
   "source": [
    "lasso_test_yhat = lasso.predict(X_test_trans)"
   ]
  },
  {
   "cell_type": "code",
   "execution_count": 443,
   "id": "2d1f9354-867e-4712-8a6b-768d563b93c6",
   "metadata": {},
   "outputs": [
    {
     "data": {
      "text/plain": [
       "0.8451198430210743"
      ]
     },
     "execution_count": 443,
     "metadata": {},
     "output_type": "execute_result"
    }
   ],
   "source": [
    "lasso_test_r2 = r2_score(y_test,lasso_test_yhat)\n",
    "lasso_test_r2"
   ]
  },
  {
   "cell_type": "code",
   "execution_count": 444,
   "id": "273b2073-94de-4aaa-a951-27d1a64c1837",
   "metadata": {},
   "outputs": [
    {
     "data": {
      "text/plain": [
       "3188.944660899877"
      ]
     },
     "execution_count": 444,
     "metadata": {},
     "output_type": "execute_result"
    }
   ],
   "source": [
    "lasso_test_rmse = mean_squared_error(y_test,lasso_test_yhat,squared=False)\n",
    "lasso_test_rmse"
   ]
  },
  {
   "cell_type": "code",
   "execution_count": 445,
   "id": "f6906368-ff2d-4866-a47b-95ab94d98683",
   "metadata": {},
   "outputs": [
    {
     "data": {
      "text/plain": [
       "array([   0.        ,   -0.        ,   -0.        ,    0.        ,\n",
       "          0.        ,    0.        ,   -0.        ,    0.        ,\n",
       "         -0.        ,   -0.        ,   -0.        ,   81.37938962,\n",
       "       -546.04503837,    0.        ,    0.        ,    0.        ,\n",
       "          0.        ,   -0.        ,    0.        ,    0.        ,\n",
       "          0.        ,   -0.        ,   -0.        ,    0.        ,\n",
       "          0.        ,   -0.        ,    0.        ,   -0.        ,\n",
       "         -0.        ,    0.        ,    0.        ,  574.67809688,\n",
       "        362.37029421,    0.        ,   -0.        ,   -0.        ,\n",
       "         -0.        ,    0.        ,    0.        ,    0.        ,\n",
       "         -0.        ,   -0.        ,   -0.        ,   -0.        ,\n",
       "          0.        ,   -0.        ,    0.        ,   -0.        ,\n",
       "         -0.        ,   -0.        ,    0.        ,    0.        ,\n",
       "         -0.        ,    0.        ,    0.        ,  635.92127137,\n",
       "          0.        , 1120.16150142,    0.        , 2794.09193514,\n",
       "          0.        ,   -0.        ,    0.        , 1462.87691669,\n",
       "          0.        ,   -0.        ,   -0.        ])"
      ]
     },
     "execution_count": 445,
     "metadata": {},
     "output_type": "execute_result"
    }
   ],
   "source": [
    "lasso.coef_"
   ]
  },
  {
   "cell_type": "markdown",
   "id": "98e0ef0a-9181-467e-b789-5f83699ef031",
   "metadata": {},
   "source": [
    "Lasso Regression restricted vast majority of the coefficient of the features to zero.\\\n",
    "We can gain quite a good insights on the importance of the features from this."
   ]
  },
  {
   "cell_type": "code",
   "execution_count": 453,
   "id": "8d5ea985-8ab0-4383-a23a-2425911f56f8",
   "metadata": {},
   "outputs": [
    {
     "data": {
      "text/plain": [
       "array([False, False, False, False, False, False, False, False, False,\n",
       "       False, False,  True, False, False, False, False, False, False,\n",
       "       False, False, False, False, False, False, False, False, False,\n",
       "       False, False, False, False,  True,  True, False, False, False,\n",
       "       False, False, False, False, False, False, False, False, False,\n",
       "       False, False, False, False, False, False, False, False, False,\n",
       "       False,  True, False,  True, False,  True, False, False, False,\n",
       "        True, False, False, False])"
      ]
     },
     "execution_count": 453,
     "metadata": {},
     "output_type": "execute_result"
    }
   ],
   "source": [
    "lasso.coef_ >0"
   ]
  },
  {
   "cell_type": "code",
   "execution_count": 455,
   "id": "6206a597-dcb5-42cb-be52-b5295d2d61db",
   "metadata": {},
   "outputs": [
    {
     "data": {
      "text/plain": [
       "array(['onehot__drivewheel_rwd', 'onehot__make_bmw', 'onehot__make_buick',\n",
       "       'remainder__carwidth', 'remainder__curbweight',\n",
       "       'remainder__enginesize', 'remainder__horsepower'], dtype=object)"
      ]
     },
     "execution_count": 455,
     "metadata": {},
     "output_type": "execute_result"
    }
   ],
   "source": [
    "col_trans.get_feature_names_out()[lasso.coef_ >0]"
   ]
  },
  {
   "cell_type": "markdown",
   "id": "b7563e80-1212-40ee-be8a-4915ea8681d0",
   "metadata": {},
   "source": [
    "We can see that only the following features actually contribute most to the car price prediction:\n",
    "1. drivewheel (rwd)\n",
    "2. make (bmw)\n",
    "3. make (buick)\n",
    "4. carwidth\n",
    "5. curbweight\n",
    "6. enginesize\n",
    "7. horsepower"
   ]
  },
  {
   "cell_type": "markdown",
   "id": "157c0e5d-a954-4ed3-8f98-645e9558c279",
   "metadata": {},
   "source": [
    "But after a few round of hyperparameter testing, Lasso Regression seems to be performing slightly worse than Ridge Regression.\\\n",
    "This could mean that some of the features zeroed by the Lasso Regression's regularization could still be somewhat useful."
   ]
  },
  {
   "cell_type": "markdown",
   "id": "dba8c23e-1640-4831-952b-f599a0c7acfc",
   "metadata": {},
   "source": [
    "#### Saving the model"
   ]
  },
  {
   "cell_type": "code",
   "execution_count": 1990,
   "id": "2349a9bb-d9e0-4213-b49a-e08e23cf5b0a",
   "metadata": {},
   "outputs": [],
   "source": [
    "lasso_yhats = {\n",
    "    \"lasso_train_yhat\":lasso_train_yhat,\n",
    "    \"lasso_test_yhat\":lasso_test_yhat,\n",
    "}"
   ]
  },
  {
   "cell_type": "code",
   "execution_count": 1991,
   "id": "c8d508da-397e-4e53-a330-a76bd7b15599",
   "metadata": {},
   "outputs": [],
   "source": [
    "lasso_scores = {\n",
    "    \"lasso_train_r2\":lasso_train_r2,\n",
    "    \"lasso_train_rmse\":lasso_train_rmse,\n",
    "    \"lasso_test_r2\":lasso_test_r2,\n",
    "    \"lasso_test_rmse\":lasso_test_rmse,\n",
    "}"
   ]
  },
  {
   "cell_type": "code",
   "execution_count": 1993,
   "id": "7135d02a-dbd0-4d5e-933d-3f45f6fa5763",
   "metadata": {},
   "outputs": [],
   "source": [
    "dump_model(lasso,yhat=lasso_yhats,scores=lasso_scores)"
   ]
  },
  {
   "cell_type": "markdown",
   "id": "2b765138-ad3b-467f-9176-c2929e5128b0",
   "metadata": {},
   "source": [
    "### Ridge + Lasso"
   ]
  },
  {
   "cell_type": "markdown",
   "id": "1c5503f4-3cde-47cc-a9ac-1ce721060c80",
   "metadata": {},
   "source": [
    "Let's see how much is the difference between the yhat of Ridge and Lasso Regression"
   ]
  },
  {
   "cell_type": "code",
   "execution_count": 456,
   "id": "e30a2a8b-6653-45e7-b504-255072817ee4",
   "metadata": {},
   "outputs": [
    {
     "data": {
      "text/plain": [
       "array([ -620.10510541, -1462.05887068, -1690.50659712, -2401.80219289,\n",
       "       -2983.13410664, -3110.07093617, -2539.90727933, -1529.70063018,\n",
       "         -27.20881983, -1424.26607451, -1005.61172228,   211.1256399 ,\n",
       "        -441.01417031, -3077.81410346, -3190.83051641, -1305.94108473,\n",
       "       -2897.15475465, -2997.60870744,   964.27353698, -3490.58985892,\n",
       "       -3025.02656983,  -576.78505545, -2374.84110729,   -56.63212237,\n",
       "         -76.82996797, -1641.67308625, -1584.2186208 ,   248.91854803,\n",
       "       -2606.33669046, -2810.5395972 ,   567.05887828,  -984.81372542,\n",
       "       -2414.91110656,  -847.24226852, -1760.43339843,  -871.79491434,\n",
       "       -1023.89005653, -2131.56067411, -2397.63213396, -1773.03559478,\n",
       "        -673.54579052])"
      ]
     },
     "execution_count": 456,
     "metadata": {},
     "output_type": "execute_result"
    }
   ],
   "source": [
    "ridge_test_yhat - lasso_test_yhat"
   ]
  },
  {
   "cell_type": "markdown",
   "id": "3ed61af4-27ed-476d-9411-fab55f33288c",
   "metadata": {},
   "source": [
    "The difference is quite noticable, perhaps we can do a combination of the two models and see if it is possible to provide even more accurate results."
   ]
  },
  {
   "cell_type": "code",
   "execution_count": 493,
   "id": "d159ec13-06b1-4ecf-abf5-397b7d8becba",
   "metadata": {},
   "outputs": [],
   "source": [
    "ridgelasso_test_yhat = ridge_test_yhat*0.65 + lasso_test_yhat*0.35"
   ]
  },
  {
   "cell_type": "code",
   "execution_count": 494,
   "id": "ba6fab58-2900-44a7-940a-7bc50ecaa33a",
   "metadata": {},
   "outputs": [
    {
     "data": {
      "text/plain": [
       "0.8701962679137263"
      ]
     },
     "execution_count": 494,
     "metadata": {},
     "output_type": "execute_result"
    }
   ],
   "source": [
    "ridgelasso_test_r2 = r2_score(y_test,ridgelasso_test_yhat)\n",
    "ridgelasso_test_r2"
   ]
  },
  {
   "cell_type": "code",
   "execution_count": 495,
   "id": "81f31e15-065b-4672-b482-0aad1129946a",
   "metadata": {},
   "outputs": [
    {
     "data": {
      "text/plain": [
       "2919.3938071612893"
      ]
     },
     "execution_count": 495,
     "metadata": {},
     "output_type": "execute_result"
    }
   ],
   "source": [
    "ridgelasso_test_rmse = mean_squared_error(y_test,ridgelasso_test_yhat,squared=False)\n",
    "ridgelasso_test_rmse"
   ]
  },
  {
   "cell_type": "markdown",
   "id": "25db1e27-fb52-48bb-9310-21176ff3329b",
   "metadata": {},
   "source": [
    "Well after applying different weights between the two models, it actually improves by a bit, not very noticeable."
   ]
  },
  {
   "cell_type": "markdown",
   "id": "516b5053-05de-4a7f-a0bb-c0ea89594699",
   "metadata": {},
   "source": [
    "#### Saving the model"
   ]
  },
  {
   "cell_type": "code",
   "execution_count": 1994,
   "id": "c83673d2-6287-454f-9dc4-27106c7d08d7",
   "metadata": {},
   "outputs": [],
   "source": [
    "ridgelasso_yhats = {\n",
    "    \"ridgelasso_test_yhat\":ridgelasso_test_yhat,\n",
    "}"
   ]
  },
  {
   "cell_type": "code",
   "execution_count": 1995,
   "id": "9764645b-b4f1-4b94-9e47-ddb870439b0b",
   "metadata": {},
   "outputs": [],
   "source": [
    "ridgelasso_scores = {\n",
    "    \"ridgelasso_test_r2\":ridgelasso_test_r2,\n",
    "    \"ridgelasso_test_rmse\":ridgelasso_test_rmse,\n",
    "}"
   ]
  },
  {
   "cell_type": "code",
   "execution_count": 2012,
   "id": "1b823d6f-7eed-4f43-a2cf-df6cf0810627",
   "metadata": {},
   "outputs": [
    {
     "data": {
      "text/plain": [
       "['Trained Models\\\\ridgelasso_scores.pkl']"
      ]
     },
     "execution_count": 2012,
     "metadata": {},
     "output_type": "execute_result"
    }
   ],
   "source": [
    "joblib.dump(ridgelasso_yhats,\"Trained Models\\\\ridgelasso_yhat.pkl\")\n",
    "joblib.dump(ridgelasso_scores,\"Trained Models\\\\ridgelasso_scores.pkl\")"
   ]
  },
  {
   "cell_type": "markdown",
   "id": "8c8fd317-e96d-4cbc-8326-20853cfaf436",
   "metadata": {},
   "source": [
    "### Features Testing"
   ]
  },
  {
   "cell_type": "code",
   "execution_count": 584,
   "id": "7a2b3543-1d34-4a19-886c-2c0a58101957",
   "metadata": {},
   "outputs": [
    {
     "data": {
      "text/plain": [
       "(67,)"
      ]
     },
     "execution_count": 584,
     "metadata": {},
     "output_type": "execute_result"
    }
   ],
   "source": [
    "col_trans.get_feature_names_out().shape"
   ]
  },
  {
   "cell_type": "code",
   "execution_count": 717,
   "id": "96eaf293-ef3f-46ec-b71b-0025d1e82c77",
   "metadata": {},
   "outputs": [],
   "source": [
    "pipe_train2 = Pipeline([\n",
    "    (\"custrans\",CustomTransform(out_df=True)),\n",
    "    (\"col_trans\",TrainedTransformer(col_trans)),\n",
    "    (\"fea_sel\",SelectPercentile(f_regression,percentile=30)),\n",
    "    (\"std_scale\",MyScaler('std',with_mean=False)),\n",
    "    (\"ridge\",Lasso(alpha=1100))\n",
    "])"
   ]
  },
  {
   "cell_type": "code",
   "execution_count": 718,
   "id": "e524d86c-b293-46f4-b9d1-0647595b5937",
   "metadata": {},
   "outputs": [],
   "source": [
    "fea = pipe_train2.fit(X_train.copy(),y_train.copy())"
   ]
  },
  {
   "cell_type": "code",
   "execution_count": 719,
   "id": "b7a82904-846f-4217-9b41-4582fdf4028e",
   "metadata": {},
   "outputs": [],
   "source": [
    "fea_train_yhat = fea.predict(X_train)"
   ]
  },
  {
   "cell_type": "code",
   "execution_count": 720,
   "id": "e131bd9d-e8ce-428e-bfea-eb619a07c63e",
   "metadata": {},
   "outputs": [
    {
     "data": {
      "text/plain": [
       "0.8432544815873506"
      ]
     },
     "execution_count": 720,
     "metadata": {},
     "output_type": "execute_result"
    }
   ],
   "source": [
    "fea_train_r2 = r2_score(y_train,fea_train_yhat)\n",
    "fea_train_r2"
   ]
  },
  {
   "cell_type": "code",
   "execution_count": 721,
   "id": "e5e32bdd-2644-446c-a358-7a51a5352b41",
   "metadata": {},
   "outputs": [
    {
     "data": {
      "text/plain": [
       "3141.7521856697485"
      ]
     },
     "execution_count": 721,
     "metadata": {},
     "output_type": "execute_result"
    }
   ],
   "source": [
    "fea_train_rmse = mean_squared_error(y_train,fea_train_yhat,squared=False)\n",
    "fea_train_rmse"
   ]
  },
  {
   "cell_type": "code",
   "execution_count": 722,
   "id": "c765719e-a31d-4a13-acb2-b00ed0f0275e",
   "metadata": {},
   "outputs": [],
   "source": [
    "fea_test_yhat = fea.predict(X_test)"
   ]
  },
  {
   "cell_type": "code",
   "execution_count": 723,
   "id": "cc03a4bc-9534-4cc3-95b4-1a8c32e26219",
   "metadata": {},
   "outputs": [
    {
     "data": {
      "text/plain": [
       "0.8451207629750277"
      ]
     },
     "execution_count": 723,
     "metadata": {},
     "output_type": "execute_result"
    }
   ],
   "source": [
    "fea_test_r2 = r2_score(y_test,fea_test_yhat)\n",
    "fea_test_r2"
   ]
  },
  {
   "cell_type": "code",
   "execution_count": 724,
   "id": "da3e3886-322a-4a2f-9a1a-7c4df505d0d8",
   "metadata": {},
   "outputs": [
    {
     "data": {
      "text/plain": [
       "3188.9351900720403"
      ]
     },
     "execution_count": 724,
     "metadata": {},
     "output_type": "execute_result"
    }
   ],
   "source": [
    "fea_test_rmse = mean_squared_error(y_test,fea_test_yhat,squared=False)\n",
    "fea_test_rmse"
   ]
  },
  {
   "cell_type": "code",
   "execution_count": 702,
   "id": "dcd61430-dda2-44fc-bac9-ca1f24c4b89e",
   "metadata": {},
   "outputs": [],
   "source": [
    "f = pipe_train2['fea_sel']"
   ]
  },
  {
   "cell_type": "code",
   "execution_count": 708,
   "id": "50ebc3ba-4d4e-437f-a991-e2c9646571ae",
   "metadata": {},
   "outputs": [
    {
     "data": {
      "text/plain": [
       "array(['onehot__drivewheel_fwd', 'onehot__drivewheel_rwd',\n",
       "       'onehot__enginelocation_front', 'onehot__enginelocation_rear',\n",
       "       'onehot__enginetype_ohc', 'onehot__fuelsystem_2bbl',\n",
       "       'onehot__fuelsystem_mpfi', 'onehot__make_bmw',\n",
       "       'onehot__make_buick', 'onehot__make_porsche',\n",
       "       'remainder__wheelbase', 'remainder__carlength',\n",
       "       'remainder__carwidth', 'remainder__curbweight',\n",
       "       'remainder__cylindernumber', 'remainder__enginesize',\n",
       "       'remainder__boreratio', 'remainder__horsepower',\n",
       "       'remainder__citympg', 'remainder__highwaympg'], dtype=object)"
      ]
     },
     "execution_count": 708,
     "metadata": {},
     "output_type": "execute_result"
    }
   ],
   "source": [
    "pipe_train2['col_trans'].estimator.get_feature_names_out()[f.get_support()]"
   ]
  },
  {
   "cell_type": "markdown",
   "id": "fd1ebfe4-b511-47a3-a764-f6144784b1b4",
   "metadata": {},
   "source": [
    "With Lasso Regression, we need to keep only 30 percentile of the features evaluated by f_regression method, while maintaining the exact same accuracy.\\\n",
    "But in the case of computational resources is not a limitation, we should just go for a Ridge Regression with full features (Ridge Regression with feature selection does not show satisfied results)"
   ]
  },
  {
   "cell_type": "markdown",
   "id": "6177c795-9897-4e2e-99ff-556e750e75f8",
   "metadata": {},
   "source": [
    "### Polynomial Regression"
   ]
  },
  {
   "cell_type": "code",
   "execution_count": 734,
   "id": "caf107d6-fbfe-4ac8-b05e-7758a6d777e0",
   "metadata": {},
   "outputs": [],
   "source": [
    "poly = PolynomialFeatures(degree=2)"
   ]
  },
  {
   "cell_type": "code",
   "execution_count": 740,
   "id": "ef5879f7-f438-40a1-bb48-15543747a7ba",
   "metadata": {
    "collapsed": true,
    "jupyter": {
     "outputs_hidden": true
    },
    "tags": []
   },
   "outputs": [
    {
     "data": {
      "text/html": [
       "<style>#sk-container-id-44 {color: black;background-color: white;}#sk-container-id-44 pre{padding: 0;}#sk-container-id-44 div.sk-toggleable {background-color: white;}#sk-container-id-44 label.sk-toggleable__label {cursor: pointer;display: block;width: 100%;margin-bottom: 0;padding: 0.3em;box-sizing: border-box;text-align: center;}#sk-container-id-44 label.sk-toggleable__label-arrow:before {content: \"▸\";float: left;margin-right: 0.25em;color: #696969;}#sk-container-id-44 label.sk-toggleable__label-arrow:hover:before {color: black;}#sk-container-id-44 div.sk-estimator:hover label.sk-toggleable__label-arrow:before {color: black;}#sk-container-id-44 div.sk-toggleable__content {max-height: 0;max-width: 0;overflow: hidden;text-align: left;background-color: #f0f8ff;}#sk-container-id-44 div.sk-toggleable__content pre {margin: 0.2em;color: black;border-radius: 0.25em;background-color: #f0f8ff;}#sk-container-id-44 input.sk-toggleable__control:checked~div.sk-toggleable__content {max-height: 200px;max-width: 100%;overflow: auto;}#sk-container-id-44 input.sk-toggleable__control:checked~label.sk-toggleable__label-arrow:before {content: \"▾\";}#sk-container-id-44 div.sk-estimator input.sk-toggleable__control:checked~label.sk-toggleable__label {background-color: #d4ebff;}#sk-container-id-44 div.sk-label input.sk-toggleable__control:checked~label.sk-toggleable__label {background-color: #d4ebff;}#sk-container-id-44 input.sk-hidden--visually {border: 0;clip: rect(1px 1px 1px 1px);clip: rect(1px, 1px, 1px, 1px);height: 1px;margin: -1px;overflow: hidden;padding: 0;position: absolute;width: 1px;}#sk-container-id-44 div.sk-estimator {font-family: monospace;background-color: #f0f8ff;border: 1px dotted black;border-radius: 0.25em;box-sizing: border-box;margin-bottom: 0.5em;}#sk-container-id-44 div.sk-estimator:hover {background-color: #d4ebff;}#sk-container-id-44 div.sk-parallel-item::after {content: \"\";width: 100%;border-bottom: 1px solid gray;flex-grow: 1;}#sk-container-id-44 div.sk-label:hover label.sk-toggleable__label {background-color: #d4ebff;}#sk-container-id-44 div.sk-serial::before {content: \"\";position: absolute;border-left: 1px solid gray;box-sizing: border-box;top: 0;bottom: 0;left: 50%;z-index: 0;}#sk-container-id-44 div.sk-serial {display: flex;flex-direction: column;align-items: center;background-color: white;padding-right: 0.2em;padding-left: 0.2em;position: relative;}#sk-container-id-44 div.sk-item {position: relative;z-index: 1;}#sk-container-id-44 div.sk-parallel {display: flex;align-items: stretch;justify-content: center;background-color: white;position: relative;}#sk-container-id-44 div.sk-item::before, #sk-container-id-44 div.sk-parallel-item::before {content: \"\";position: absolute;border-left: 1px solid gray;box-sizing: border-box;top: 0;bottom: 0;left: 50%;z-index: -1;}#sk-container-id-44 div.sk-parallel-item {display: flex;flex-direction: column;z-index: 1;position: relative;background-color: white;}#sk-container-id-44 div.sk-parallel-item:first-child::after {align-self: flex-end;width: 50%;}#sk-container-id-44 div.sk-parallel-item:last-child::after {align-self: flex-start;width: 50%;}#sk-container-id-44 div.sk-parallel-item:only-child::after {width: 0;}#sk-container-id-44 div.sk-dashed-wrapped {border: 1px dashed gray;margin: 0 0.4em 0.5em 0.4em;box-sizing: border-box;padding-bottom: 0.4em;background-color: white;}#sk-container-id-44 div.sk-label label {font-family: monospace;font-weight: bold;display: inline-block;line-height: 1.2em;}#sk-container-id-44 div.sk-label-container {text-align: center;}#sk-container-id-44 div.sk-container {/* jupyter's `normalize.less` sets `[hidden] { display: none; }` but bootstrap.min.css set `[hidden] { display: none !important; }` so we also need the `!important` here to be able to override the default hidden behavior on the sphinx rendered scikit-learn.org. See: https://github.com/scikit-learn/scikit-learn/issues/21755 */display: inline-block !important;position: relative;}#sk-container-id-44 div.sk-text-repr-fallback {display: none;}</style><div id=\"sk-container-id-44\" class=\"sk-top-container\"><div class=\"sk-text-repr-fallback\"><pre>Pipeline(steps=[(&#x27;custrans&#x27;, CustomTransform(out_df=True)),\n",
       "                (&#x27;col_trans&#x27;,\n",
       "                 TrainedTransformer(estimator=ColumnTransformer(remainder=&#x27;passthrough&#x27;,\n",
       "                                                                transformers=[(&#x27;onehot&#x27;,\n",
       "                                                                               OneHotEncoder(),\n",
       "                                                                               array([&#x27;fueltype&#x27;, &#x27;aspiration&#x27;, &#x27;carbody&#x27;, &#x27;drivewheel&#x27;,\n",
       "       &#x27;enginelocation&#x27;, &#x27;enginetype&#x27;, &#x27;fuelsystem&#x27;, &#x27;make&#x27;], dtype=object))]))),\n",
       "                (&#x27;fea_sel&#x27;,\n",
       "                 SelectPercentile(percentile=30,\n",
       "                                  score_func=&lt;function f_regression at 0x000001B5FF362D40&gt;)),\n",
       "                (&#x27;std_scale&#x27;, MyScaler(scalertype=&#x27;std&#x27;))])</pre><b>In a Jupyter environment, please rerun this cell to show the HTML representation or trust the notebook. <br />On GitHub, the HTML representation is unable to render, please try loading this page with nbviewer.org.</b></div><div class=\"sk-container\" hidden><div class=\"sk-item sk-dashed-wrapped\"><div class=\"sk-label-container\"><div class=\"sk-label sk-toggleable\"><input class=\"sk-toggleable__control sk-hidden--visually\" id=\"sk-estimator-id-147\" type=\"checkbox\" ><label for=\"sk-estimator-id-147\" class=\"sk-toggleable__label sk-toggleable__label-arrow\">Pipeline</label><div class=\"sk-toggleable__content\"><pre>Pipeline(steps=[(&#x27;custrans&#x27;, CustomTransform(out_df=True)),\n",
       "                (&#x27;col_trans&#x27;,\n",
       "                 TrainedTransformer(estimator=ColumnTransformer(remainder=&#x27;passthrough&#x27;,\n",
       "                                                                transformers=[(&#x27;onehot&#x27;,\n",
       "                                                                               OneHotEncoder(),\n",
       "                                                                               array([&#x27;fueltype&#x27;, &#x27;aspiration&#x27;, &#x27;carbody&#x27;, &#x27;drivewheel&#x27;,\n",
       "       &#x27;enginelocation&#x27;, &#x27;enginetype&#x27;, &#x27;fuelsystem&#x27;, &#x27;make&#x27;], dtype=object))]))),\n",
       "                (&#x27;fea_sel&#x27;,\n",
       "                 SelectPercentile(percentile=30,\n",
       "                                  score_func=&lt;function f_regression at 0x000001B5FF362D40&gt;)),\n",
       "                (&#x27;std_scale&#x27;, MyScaler(scalertype=&#x27;std&#x27;))])</pre></div></div></div><div class=\"sk-serial\"><div class=\"sk-item\"><div class=\"sk-estimator sk-toggleable\"><input class=\"sk-toggleable__control sk-hidden--visually\" id=\"sk-estimator-id-148\" type=\"checkbox\" ><label for=\"sk-estimator-id-148\" class=\"sk-toggleable__label sk-toggleable__label-arrow\">CustomTransform</label><div class=\"sk-toggleable__content\"><pre>CustomTransform(out_df=True)</pre></div></div></div><div class=\"sk-item sk-dashed-wrapped\"><div class=\"sk-label-container\"><div class=\"sk-label sk-toggleable\"><input class=\"sk-toggleable__control sk-hidden--visually\" id=\"sk-estimator-id-149\" type=\"checkbox\" ><label for=\"sk-estimator-id-149\" class=\"sk-toggleable__label sk-toggleable__label-arrow\">col_trans: TrainedTransformer</label><div class=\"sk-toggleable__content\"><pre>TrainedTransformer(estimator=ColumnTransformer(remainder=&#x27;passthrough&#x27;,\n",
       "                                               transformers=[(&#x27;onehot&#x27;,\n",
       "                                                              OneHotEncoder(),\n",
       "                                                              array([&#x27;fueltype&#x27;, &#x27;aspiration&#x27;, &#x27;carbody&#x27;, &#x27;drivewheel&#x27;,\n",
       "       &#x27;enginelocation&#x27;, &#x27;enginetype&#x27;, &#x27;fuelsystem&#x27;, &#x27;make&#x27;], dtype=object))]))</pre></div></div></div><div class=\"sk-parallel\"><div class=\"sk-parallel-item\"><div class=\"sk-item\"><div class=\"sk-label-container\"><div class=\"sk-label sk-toggleable\"><input class=\"sk-toggleable__control sk-hidden--visually\" id=\"sk-estimator-id-150\" type=\"checkbox\" ><label for=\"sk-estimator-id-150\" class=\"sk-toggleable__label sk-toggleable__label-arrow\">estimator: ColumnTransformer</label><div class=\"sk-toggleable__content\"><pre>ColumnTransformer(remainder=&#x27;passthrough&#x27;,\n",
       "                  transformers=[(&#x27;onehot&#x27;, OneHotEncoder(),\n",
       "                                 array([&#x27;fueltype&#x27;, &#x27;aspiration&#x27;, &#x27;carbody&#x27;, &#x27;drivewheel&#x27;,\n",
       "       &#x27;enginelocation&#x27;, &#x27;enginetype&#x27;, &#x27;fuelsystem&#x27;, &#x27;make&#x27;], dtype=object))])</pre></div></div></div><div class=\"sk-serial\"><div class=\"sk-item sk-dashed-wrapped\"><div class=\"sk-parallel\"><div class=\"sk-parallel-item\"><div class=\"sk-item\"><div class=\"sk-label-container\"><div class=\"sk-label sk-toggleable\"><input class=\"sk-toggleable__control sk-hidden--visually\" id=\"sk-estimator-id-151\" type=\"checkbox\" ><label for=\"sk-estimator-id-151\" class=\"sk-toggleable__label sk-toggleable__label-arrow\">onehot</label><div class=\"sk-toggleable__content\"><pre>[&#x27;fueltype&#x27; &#x27;aspiration&#x27; &#x27;carbody&#x27; &#x27;drivewheel&#x27; &#x27;enginelocation&#x27;\n",
       " &#x27;enginetype&#x27; &#x27;fuelsystem&#x27; &#x27;make&#x27;]</pre></div></div></div><div class=\"sk-serial\"><div class=\"sk-item\"><div class=\"sk-estimator sk-toggleable\"><input class=\"sk-toggleable__control sk-hidden--visually\" id=\"sk-estimator-id-152\" type=\"checkbox\" ><label for=\"sk-estimator-id-152\" class=\"sk-toggleable__label sk-toggleable__label-arrow\">OneHotEncoder</label><div class=\"sk-toggleable__content\"><pre>OneHotEncoder()</pre></div></div></div></div></div></div><div class=\"sk-parallel-item\"><div class=\"sk-item\"><div class=\"sk-label-container\"><div class=\"sk-label sk-toggleable\"><input class=\"sk-toggleable__control sk-hidden--visually\" id=\"sk-estimator-id-153\" type=\"checkbox\" ><label for=\"sk-estimator-id-153\" class=\"sk-toggleable__label sk-toggleable__label-arrow\">remainder</label><div class=\"sk-toggleable__content\"><pre>[&#x27;symboling&#x27;, &#x27;doornumber&#x27;, &#x27;wheelbase&#x27;, &#x27;carlength&#x27;, &#x27;carwidth&#x27;, &#x27;carheight&#x27;, &#x27;curbweight&#x27;, &#x27;cylindernumber&#x27;, &#x27;enginesize&#x27;, &#x27;boreratio&#x27;, &#x27;stroke&#x27;, &#x27;compressionratio&#x27;, &#x27;horsepower&#x27;, &#x27;peakrpm&#x27;, &#x27;citympg&#x27;, &#x27;highwaympg&#x27;]</pre></div></div></div><div class=\"sk-serial\"><div class=\"sk-item\"><div class=\"sk-estimator sk-toggleable\"><input class=\"sk-toggleable__control sk-hidden--visually\" id=\"sk-estimator-id-154\" type=\"checkbox\" ><label for=\"sk-estimator-id-154\" class=\"sk-toggleable__label sk-toggleable__label-arrow\">passthrough</label><div class=\"sk-toggleable__content\"><pre>passthrough</pre></div></div></div></div></div></div></div></div></div></div></div></div></div><div class=\"sk-item\"><div class=\"sk-estimator sk-toggleable\"><input class=\"sk-toggleable__control sk-hidden--visually\" id=\"sk-estimator-id-155\" type=\"checkbox\" ><label for=\"sk-estimator-id-155\" class=\"sk-toggleable__label sk-toggleable__label-arrow\">SelectPercentile</label><div class=\"sk-toggleable__content\"><pre>SelectPercentile(percentile=30,\n",
       "                 score_func=&lt;function f_regression at 0x000001B5FF362D40&gt;)</pre></div></div></div><div class=\"sk-item\"><div class=\"sk-estimator sk-toggleable\"><input class=\"sk-toggleable__control sk-hidden--visually\" id=\"sk-estimator-id-156\" type=\"checkbox\" ><label for=\"sk-estimator-id-156\" class=\"sk-toggleable__label sk-toggleable__label-arrow\">MyScaler</label><div class=\"sk-toggleable__content\"><pre>MyScaler(scalertype=&#x27;std&#x27;)</pre></div></div></div></div></div></div></div>"
      ],
      "text/plain": [
       "Pipeline(steps=[('custrans', CustomTransform(out_df=True)),\n",
       "                ('col_trans',\n",
       "                 TrainedTransformer(estimator=ColumnTransformer(remainder='passthrough',\n",
       "                                                                transformers=[('onehot',\n",
       "                                                                               OneHotEncoder(),\n",
       "                                                                               array(['fueltype', 'aspiration', 'carbody', 'drivewheel',\n",
       "       'enginelocation', 'enginetype', 'fuelsystem', 'make'], dtype=object))]))),\n",
       "                ('fea_sel',\n",
       "                 SelectPercentile(percentile=30,\n",
       "                                  score_func=<function f_regression at 0x000001B5FF362D40>)),\n",
       "                ('std_scale', MyScaler(scalertype='std'))])"
      ]
     },
     "execution_count": 740,
     "metadata": {},
     "output_type": "execute_result"
    }
   ],
   "source": [
    "pipe_train.set_params(fea_sel__percentile=30)"
   ]
  },
  {
   "cell_type": "code",
   "execution_count": 741,
   "id": "7252ce5c-20e6-4c50-b010-e2b9c1af4ec9",
   "metadata": {},
   "outputs": [
    {
     "data": {
      "text/plain": [
       "array([[2.01824181, 0.        , 7.46225839, ..., 2.62308291, 4.03884412,\n",
       "        4.69054043],\n",
       "       [2.01824181, 0.        , 7.46225839, ..., 1.80992721, 4.81554492,\n",
       "        5.42343737],\n",
       "       [2.01824181, 0.        , 7.46225839, ..., 2.8853912 , 2.95146301,\n",
       "        3.51790532],\n",
       "       ...,\n",
       "       [0.        , 2.06228136, 7.46225839, ..., 4.7740109 , 2.48544254,\n",
       "        3.22474654],\n",
       "       [0.        , 2.06228136, 7.46225839, ..., 3.54116193, 2.48544254,\n",
       "        3.37132593],\n",
       "       [0.        , 2.06228136, 7.46225839, ..., 7.55447879, 2.6407827 ,\n",
       "        4.10422287]])"
      ]
     },
     "execution_count": 741,
     "metadata": {},
     "output_type": "execute_result"
    }
   ],
   "source": [
    "X_train_trans2 = pipe_train.transform(X_train.copy())\n",
    "X_train_trans2"
   ]
  },
  {
   "cell_type": "code",
   "execution_count": 748,
   "id": "7c9b186d-2877-40cb-a626-724b6cb4c007",
   "metadata": {},
   "outputs": [],
   "source": [
    "X_train_trans2_poly = poly.fit_transform(X_train_trans2)"
   ]
  },
  {
   "cell_type": "code",
   "execution_count": 758,
   "id": "e5cc79cb-473b-4e61-8527-520a09ada8e3",
   "metadata": {},
   "outputs": [],
   "source": [
    "X_test_trans2_poly = poly.transform(pipe_train.transform(X_test.copy()))"
   ]
  },
  {
   "cell_type": "markdown",
   "id": "45aaa5f7-eb7f-463f-aad7-f6474fb1d8be",
   "metadata": {},
   "source": [
    "#### Linear"
   ]
  },
  {
   "cell_type": "code",
   "execution_count": 752,
   "id": "bd4e57d5-6e32-4a95-8978-b05123e0f16a",
   "metadata": {},
   "outputs": [],
   "source": [
    "poly_lin = LinearRegression(fit_intercept=False,n_jobs=4).fit(X_train_trans2_poly,y_train)"
   ]
  },
  {
   "cell_type": "code",
   "execution_count": 753,
   "id": "418d55ca-7968-44b7-b3c0-97025b06f394",
   "metadata": {},
   "outputs": [],
   "source": [
    "poly_lin_train_yhat = poly_lin.predict(X_train_trans2_poly)"
   ]
  },
  {
   "cell_type": "code",
   "execution_count": 755,
   "id": "eec7429b-53a5-4c03-a3fb-118733d528ec",
   "metadata": {},
   "outputs": [
    {
     "data": {
      "text/plain": [
       "0.9974657854591514"
      ]
     },
     "execution_count": 755,
     "metadata": {},
     "output_type": "execute_result"
    }
   ],
   "source": [
    "poly_lin_train_r2 = r2_score(y_train,poly_lin_train_yhat)\n",
    "poly_lin_train_r2"
   ]
  },
  {
   "cell_type": "code",
   "execution_count": 756,
   "id": "8a08a613-7c92-4a84-b719-e2e23971785c",
   "metadata": {},
   "outputs": [
    {
     "data": {
      "text/plain": [
       "399.4809268720823"
      ]
     },
     "execution_count": 756,
     "metadata": {},
     "output_type": "execute_result"
    }
   ],
   "source": [
    "poly_lin_train_rmse = mean_squared_error(y_train,poly_lin_train_yhat,squared=False)\n",
    "poly_lin_train_rmse"
   ]
  },
  {
   "cell_type": "code",
   "execution_count": 759,
   "id": "f9e2dd42-46de-4d73-b284-6ac27aba54c1",
   "metadata": {},
   "outputs": [],
   "source": [
    "poly_lin_test_yhat = poly_lin.predict(X_test_trans2_poly)"
   ]
  },
  {
   "cell_type": "code",
   "execution_count": 760,
   "id": "151554dd-08b6-4886-985d-697667f61127",
   "metadata": {},
   "outputs": [
    {
     "data": {
      "text/plain": [
       "-14129498607.229387"
      ]
     },
     "execution_count": 760,
     "metadata": {},
     "output_type": "execute_result"
    }
   ],
   "source": [
    "poly_lin_test_r2 = r2_score(y_test,poly_lin_test_yhat)\n",
    "poly_lin_test_r2"
   ]
  },
  {
   "cell_type": "code",
   "execution_count": 761,
   "id": "75199004-7462-4303-b149-1ab32415da1c",
   "metadata": {},
   "outputs": [
    {
     "data": {
      "text/plain": [
       "963191116.0404202"
      ]
     },
     "execution_count": 761,
     "metadata": {},
     "output_type": "execute_result"
    }
   ],
   "source": [
    "poly_lin_test_rmse = mean_squared_error(y_test,poly_lin_test_yhat,squared=False)\n",
    "poly_lin_test_rmse"
   ]
  },
  {
   "cell_type": "markdown",
   "id": "c34c3632-1dea-4c9c-9783-ff1783b58677",
   "metadata": {},
   "source": [
    "Linear Regression model is still seriously overfit (even more than before polynomial transforming)"
   ]
  },
  {
   "cell_type": "markdown",
   "id": "84d8bb63-5bea-41c3-9e3c-b6894d81e1de",
   "metadata": {},
   "source": [
    "##### Saving the model"
   ]
  },
  {
   "cell_type": "code",
   "execution_count": 1997,
   "id": "61a7cdcb-718f-48f4-8e62-36c7130ee89f",
   "metadata": {},
   "outputs": [],
   "source": [
    "poly_lin_yhats = {\n",
    "    \"poly_lin_train_yhat\":poly_lin_train_yhat,\n",
    "    \"poly_lin_test_yhat\":poly_lin_test_yhat,\n",
    "}"
   ]
  },
  {
   "cell_type": "code",
   "execution_count": 1998,
   "id": "6e544914-afab-49b7-9c69-d307207b56a7",
   "metadata": {},
   "outputs": [],
   "source": [
    "poly_lin_scores = {\n",
    "    \"poly_lin_train_r2\":poly_lin_train_r2,\n",
    "    \"poly_lin_train_rmse\":poly_lin_train_rmse,\n",
    "    \"poly_lin_test_r2\":poly_lin_test_r2,\n",
    "    \"poly_lin_test_rmse\":poly_lin_test_rmse,\n",
    "}"
   ]
  },
  {
   "cell_type": "code",
   "execution_count": 2001,
   "id": "e9dcc618-5f8d-464b-9024-d68c2105a050",
   "metadata": {},
   "outputs": [],
   "source": [
    "dump_model(poly_lin,filename=\"poly_lin\",yhat=poly_lin_yhats,scores=poly_lin_scores)"
   ]
  },
  {
   "cell_type": "markdown",
   "id": "3801fe4d-d483-4fd0-8c96-d6c785bb75e4",
   "metadata": {},
   "source": [
    "#### Ridge"
   ]
  },
  {
   "cell_type": "code",
   "execution_count": 860,
   "id": "3684fd3d-9c0f-4d75-b856-c2a5a7594b50",
   "metadata": {},
   "outputs": [],
   "source": [
    "poly_ridge = Ridge(alpha=150000,fit_intercept=False).fit(X_train_trans2_poly,y_train)"
   ]
  },
  {
   "cell_type": "code",
   "execution_count": 861,
   "id": "2a185e37-029e-44a6-a87c-57c8983deae0",
   "metadata": {},
   "outputs": [],
   "source": [
    "poly_ridge_train_yhat = poly_ridge.predict(X_train_trans2_poly)"
   ]
  },
  {
   "cell_type": "code",
   "execution_count": 862,
   "id": "3421bb1e-e588-4b5b-acc7-695133960b68",
   "metadata": {},
   "outputs": [
    {
     "data": {
      "text/plain": [
       "0.9063886123151322"
      ]
     },
     "execution_count": 862,
     "metadata": {},
     "output_type": "execute_result"
    }
   ],
   "source": [
    "poly_ridge_train_r2 = r2_score(y_train,poly_ridge_train_yhat)\n",
    "poly_ridge_train_r2"
   ]
  },
  {
   "cell_type": "code",
   "execution_count": 863,
   "id": "fca4655b-722c-45c3-977b-7c2a5c7e7bdd",
   "metadata": {},
   "outputs": [
    {
     "data": {
      "text/plain": [
       "2427.9441990702444"
      ]
     },
     "execution_count": 863,
     "metadata": {},
     "output_type": "execute_result"
    }
   ],
   "source": [
    "poly_ridge_train_rmse = mean_squared_error(y_train,poly_ridge_train_yhat,squared=False)\n",
    "poly_ridge_train_rmse"
   ]
  },
  {
   "cell_type": "code",
   "execution_count": 864,
   "id": "fd377c33-f24e-4d56-baee-822221f76c0d",
   "metadata": {},
   "outputs": [],
   "source": [
    "poly_ridge_test_yhat = poly_ridge.predict(X_test_trans2_poly)"
   ]
  },
  {
   "cell_type": "code",
   "execution_count": 865,
   "id": "95c7cc4d-0869-4f6d-932e-315149400018",
   "metadata": {},
   "outputs": [
    {
     "data": {
      "text/plain": [
       "0.8807875829936561"
      ]
     },
     "execution_count": 865,
     "metadata": {},
     "output_type": "execute_result"
    }
   ],
   "source": [
    "poly_ridge_test_r2 = r2_score(y_test,poly_ridge_test_yhat)\n",
    "poly_ridge_test_r2"
   ]
  },
  {
   "cell_type": "code",
   "execution_count": 866,
   "id": "41e8b784-a601-4eba-a8ae-ab2af8f27194",
   "metadata": {},
   "outputs": [
    {
     "data": {
      "text/plain": [
       "2797.7560231775697"
      ]
     },
     "execution_count": 866,
     "metadata": {},
     "output_type": "execute_result"
    }
   ],
   "source": [
    "poly_ridge_test_rmse = mean_squared_error(y_test,poly_ridge_test_yhat,squared=False)\n",
    "poly_ridge_test_rmse"
   ]
  },
  {
   "cell_type": "markdown",
   "id": "a973536a-a8e8-40e1-8d40-016848d3502f",
   "metadata": {},
   "source": [
    "With Polynomial degree = 2, Ridge Regression is able to get even higher performance than that without polynomial feature transform"
   ]
  },
  {
   "cell_type": "markdown",
   "id": "3433b9c8-78d1-42ef-82ae-a2cf2f7936fb",
   "metadata": {},
   "source": [
    "##### Saving the model"
   ]
  },
  {
   "cell_type": "code",
   "execution_count": 2002,
   "id": "9d338ff7-507f-496a-8553-3de5ca05f9d3",
   "metadata": {},
   "outputs": [],
   "source": [
    "poly_ridge_yhats = {\n",
    "    \"poly_ridge_train_yhat\":poly_ridge_train_yhat,\n",
    "    \"poly_ridge_test_yhat\":poly_ridge_test_yhat,\n",
    "}"
   ]
  },
  {
   "cell_type": "code",
   "execution_count": 2003,
   "id": "6583bd07-72b5-4bf2-b682-24f6cb1ab87f",
   "metadata": {},
   "outputs": [],
   "source": [
    "poly_ridge_scores = {\n",
    "    \"poly_ridge_train_r2\":poly_ridge_train_r2,\n",
    "    \"poly_ridge_train_rmse\":poly_ridge_train_rmse,\n",
    "    \"poly_ridge_test_r2\":poly_ridge_test_r2,\n",
    "    \"poly_ridge_test_rmse\":poly_ridge_test_rmse,\n",
    "}"
   ]
  },
  {
   "cell_type": "code",
   "execution_count": 2004,
   "id": "e271d407-b690-4286-9148-4fc1b42b0dcb",
   "metadata": {},
   "outputs": [],
   "source": [
    "dump_model(poly_ridge,filename=\"poly_ridge\",yhat=poly_ridge_yhats,scores=poly_ridge_scores)"
   ]
  },
  {
   "cell_type": "markdown",
   "id": "c8f1aea4-1428-4698-909c-f65e989cfd71",
   "metadata": {},
   "source": [
    "#### Lasso"
   ]
  },
  {
   "cell_type": "code",
   "execution_count": 1081,
   "id": "e7bd75a9-0bb1-4889-ab25-86e5ba14a2e1",
   "metadata": {},
   "outputs": [
    {
     "name": "stderr",
     "output_type": "stream",
     "text": [
      "C:\\Users\\pi314\\AppData\\Local\\Programs\\Python\\Python310\\lib\\site-packages\\sklearn\\linear_model\\_coordinate_descent.py:648: ConvergenceWarning: Objective did not converge. You might want to increase the number of iterations, check the scale of the features or consider increasing regularisation. Duality gap: 3.163e+08, tolerance: 3.918e+06\n",
      "  model = cd_fast.enet_coordinate_descent(\n"
     ]
    }
   ],
   "source": [
    "poly_lasso = Lasso(alpha=1000,max_iter=1000,selection='cyclic',fit_intercept=False).fit(X_train_trans2_poly,y_train)"
   ]
  },
  {
   "cell_type": "code",
   "execution_count": 1082,
   "id": "01b39b8d-a7a4-4fb6-aa7f-a9e40b71249b",
   "metadata": {},
   "outputs": [],
   "source": [
    "poly_lasso_train_yhat = poly_lasso.predict(X_train_trans2_poly)"
   ]
  },
  {
   "cell_type": "code",
   "execution_count": 1083,
   "id": "5e69dc69-f4db-4a08-aa5a-4cfe14b27acb",
   "metadata": {},
   "outputs": [
    {
     "data": {
      "text/plain": [
       "0.9379341170596723"
      ]
     },
     "execution_count": 1083,
     "metadata": {},
     "output_type": "execute_result"
    }
   ],
   "source": [
    "poly_lasso_train_r2 = r2_score(y_train,poly_lasso_train_yhat)\n",
    "poly_lasso_train_r2"
   ]
  },
  {
   "cell_type": "code",
   "execution_count": 1084,
   "id": "6a2a9646-368c-46dd-990a-3f3cbbaa8a4b",
   "metadata": {},
   "outputs": [
    {
     "data": {
      "text/plain": [
       "1976.9734120095347"
      ]
     },
     "execution_count": 1084,
     "metadata": {},
     "output_type": "execute_result"
    }
   ],
   "source": [
    "poly_lasso_train_rmse = mean_squared_error(y_train,poly_lasso_train_yhat,squared=False)\n",
    "poly_lasso_train_rmse"
   ]
  },
  {
   "cell_type": "code",
   "execution_count": 1085,
   "id": "24981953-2440-4460-a713-df02331934ba",
   "metadata": {},
   "outputs": [],
   "source": [
    "poly_lasso_test_yhat = poly_lasso.predict(X_test_trans2_poly)"
   ]
  },
  {
   "cell_type": "code",
   "execution_count": 1086,
   "id": "9f17bfff-67da-4881-82d4-167a0a43464b",
   "metadata": {},
   "outputs": [
    {
     "data": {
      "text/plain": [
       "0.8899874232995395"
      ]
     },
     "execution_count": 1086,
     "metadata": {},
     "output_type": "execute_result"
    }
   ],
   "source": [
    "poly_lasso_test_r2 = r2_score(y_test,poly_lasso_test_yhat)\n",
    "poly_lasso_test_r2"
   ]
  },
  {
   "cell_type": "code",
   "execution_count": 1087,
   "id": "c415a54b-b5c8-4be1-8864-aa02a0a7ef00",
   "metadata": {},
   "outputs": [
    {
     "data": {
      "text/plain": [
       "2687.6348331401823"
      ]
     },
     "execution_count": 1087,
     "metadata": {},
     "output_type": "execute_result"
    }
   ],
   "source": [
    "poly_lasso_test_rmse = mean_squared_error(y_test,poly_lasso_test_yhat,squared=False)\n",
    "poly_lasso_test_rmse"
   ]
  },
  {
   "cell_type": "markdown",
   "id": "9377df60-c3f8-41dd-898b-6175c57f2c55",
   "metadata": {},
   "source": [
    "Although the lasso regression failed to converge to the optimum coefficients, but it still performs better than Ridge Regression under the same condition."
   ]
  },
  {
   "cell_type": "markdown",
   "id": "4b5f0929-bbd1-41bb-9790-cc42147aac9a",
   "metadata": {},
   "source": [
    "##### Saving the model"
   ]
  },
  {
   "cell_type": "code",
   "execution_count": 2005,
   "id": "a9819184-5498-45e4-930f-20e60eccf853",
   "metadata": {},
   "outputs": [],
   "source": [
    "poly_lasso_yhats = {\n",
    "    \"poly_lasso_train_yhat\":poly_lasso_train_yhat,\n",
    "    \"poly_lasso_test_yhat\":poly_lasso_test_yhat,\n",
    "}"
   ]
  },
  {
   "cell_type": "code",
   "execution_count": 2006,
   "id": "3d92d5f9-eb00-4b01-b25f-acf235078986",
   "metadata": {},
   "outputs": [],
   "source": [
    "poly_lasso_scores = {\n",
    "    \"poly_lasso_train_r2\":poly_lasso_train_r2,\n",
    "    \"poly_lasso_train_rmse\":poly_lasso_train_rmse,\n",
    "    \"poly_lasso_test_r2\":poly_lasso_test_r2,\n",
    "    \"poly_lasso_test_rmse\":poly_lasso_test_rmse,\n",
    "}"
   ]
  },
  {
   "cell_type": "code",
   "execution_count": 2007,
   "id": "02e6075e-25a7-47ac-af70-0a3bc00b6584",
   "metadata": {},
   "outputs": [],
   "source": [
    "dump_model(poly_lasso,filename=\"poly_lasso\",yhat=poly_lasso_yhats,scores=poly_lasso_scores)"
   ]
  },
  {
   "cell_type": "markdown",
   "id": "d1494823-e850-4e33-840d-e6c0585deb55",
   "metadata": {},
   "source": [
    "#### Ridge + Lasso"
   ]
  },
  {
   "cell_type": "code",
   "execution_count": 1964,
   "id": "3fe386bc-d5f0-41e0-af30-4fcf6aff3ef6",
   "metadata": {},
   "outputs": [],
   "source": [
    "poly_ridgelasso_test_yhat = poly_ridge_test_yhat*0.2 + poly_lasso_test_yhat*0.8"
   ]
  },
  {
   "cell_type": "code",
   "execution_count": 1965,
   "id": "bc591513-c361-477f-88ee-c428c1572931",
   "metadata": {},
   "outputs": [
    {
     "data": {
      "text/plain": [
       "0.8903694359586657"
      ]
     },
     "execution_count": 1965,
     "metadata": {},
     "output_type": "execute_result"
    }
   ],
   "source": [
    "poly_ridgelasso_test_r2 = r2_score(y_test,poly_ridgelasso_test_yhat)\n",
    "poly_ridgelasso_test_r2"
   ]
  },
  {
   "cell_type": "code",
   "execution_count": 1966,
   "id": "3ca9a7de-b380-4395-abcd-568c43609f03",
   "metadata": {},
   "outputs": [
    {
     "data": {
      "text/plain": [
       "2682.9644426716727"
      ]
     },
     "execution_count": 1966,
     "metadata": {},
     "output_type": "execute_result"
    }
   ],
   "source": [
    "poly_ridgelasso_test_rmse = mean_squared_error(y_test,poly_ridgelasso_test_yhat,squared=False)\n",
    "poly_ridgelasso_test_rmse"
   ]
  },
  {
   "cell_type": "markdown",
   "id": "2880dea4-b48b-4715-aa20-21cb4bd79adf",
   "metadata": {},
   "source": [
    "Well after applying different weights between the two models, it actually improves by a tiny bit, not very noticeable."
   ]
  },
  {
   "cell_type": "markdown",
   "id": "f267fbf9-a8ab-4a54-bbac-ff0e93829ac5",
   "metadata": {},
   "source": [
    "#### Saving the model"
   ]
  },
  {
   "cell_type": "code",
   "execution_count": 2008,
   "id": "2eb1ee68-74df-4c02-a13d-42dbb8d5f248",
   "metadata": {},
   "outputs": [],
   "source": [
    "poly_ridgelasso_yhats = {\n",
    "    \"poly_ridgelasso_test_yhat\":poly_ridgelasso_test_yhat,\n",
    "}"
   ]
  },
  {
   "cell_type": "code",
   "execution_count": 2009,
   "id": "8488c688-a901-47af-807e-1051449a53f8",
   "metadata": {},
   "outputs": [],
   "source": [
    "poly_ridgelasso_scores = {\n",
    "    \"poly_ridgelasso_test_r2\":poly_ridgelasso_test_r2,\n",
    "    \"poly_ridgelasso_test_rmse\":poly_ridgelasso_test_rmse,\n",
    "}"
   ]
  },
  {
   "cell_type": "code",
   "execution_count": 2011,
   "id": "d30ee84c-9f28-4df5-a69f-82793a756cc2",
   "metadata": {},
   "outputs": [
    {
     "data": {
      "text/plain": [
       "['Trained Models\\\\poly_ridgelasso_scores.pkl']"
      ]
     },
     "execution_count": 2011,
     "metadata": {},
     "output_type": "execute_result"
    }
   ],
   "source": [
    "joblib.dump(poly_ridgelasso_yhats,\"Trained Models\\\\poly_ridgelasso_yhats.pkl\")\n",
    "joblib.dump(poly_ridgelasso_scores,\"Trained Models\\\\poly_ridgelasso_scores.pkl\")"
   ]
  },
  {
   "cell_type": "markdown",
   "id": "1962e700-f2a3-43d1-aa1d-b29c93de02ba",
   "metadata": {},
   "source": [
    "### SVR"
   ]
  },
  {
   "cell_type": "markdown",
   "id": "e2843a28-dfd4-4add-ba6f-1e9b7d31abd1",
   "metadata": {},
   "source": [
    "#### SVR Standard"
   ]
  },
  {
   "cell_type": "code",
   "execution_count": 1236,
   "id": "b0384ac9-5fe4-482e-97f4-35b4af9f21f6",
   "metadata": {},
   "outputs": [],
   "source": [
    "svr = SVR(C=100000).fit(X_train_trans,y_train)"
   ]
  },
  {
   "cell_type": "code",
   "execution_count": 1237,
   "id": "ecc22d4f-940c-4754-bb8f-dcd420bbe198",
   "metadata": {},
   "outputs": [],
   "source": [
    "svr_train_yhat = svr.predict(X_train_trans)"
   ]
  },
  {
   "cell_type": "code",
   "execution_count": 1238,
   "id": "57ba6eca-b1b7-4ac4-b17c-da334809310e",
   "metadata": {},
   "outputs": [
    {
     "data": {
      "text/plain": [
       "0.9388572005526047"
      ]
     },
     "execution_count": 1238,
     "metadata": {},
     "output_type": "execute_result"
    }
   ],
   "source": [
    "svr_train_r2 = r2_score(y_train,svr_train_yhat)\n",
    "svr_train_r2"
   ]
  },
  {
   "cell_type": "code",
   "execution_count": 1239,
   "id": "318bb930-7566-4225-85cd-16d174337d6d",
   "metadata": {},
   "outputs": [
    {
     "data": {
      "text/plain": [
       "1962.2169332464657"
      ]
     },
     "execution_count": 1239,
     "metadata": {},
     "output_type": "execute_result"
    }
   ],
   "source": [
    "svr_train_rmse = mean_squared_error(y_train,svr_train_yhat,squared=False)\n",
    "svr_train_rmse"
   ]
  },
  {
   "cell_type": "code",
   "execution_count": 1240,
   "id": "eac53638-85fd-484f-9249-8eb852ddcac0",
   "metadata": {
    "tags": []
   },
   "outputs": [],
   "source": [
    "svr_test_yhat = svr.predict(X_test_trans)"
   ]
  },
  {
   "cell_type": "code",
   "execution_count": 1241,
   "id": "8f7c1cb4-d7f2-48e4-82b9-88c38fe83ab3",
   "metadata": {},
   "outputs": [
    {
     "data": {
      "text/plain": [
       "0.8857250097641215"
      ]
     },
     "execution_count": 1241,
     "metadata": {},
     "output_type": "execute_result"
    }
   ],
   "source": [
    "svr_test_r2 = r2_score(y_test,svr_test_yhat)\n",
    "svr_test_r2"
   ]
  },
  {
   "cell_type": "code",
   "execution_count": 1242,
   "id": "fd0cf65f-dfc9-4193-a05e-a71096cc5786",
   "metadata": {},
   "outputs": [
    {
     "data": {
      "text/plain": [
       "2739.2059677342954"
      ]
     },
     "execution_count": 1242,
     "metadata": {},
     "output_type": "execute_result"
    }
   ],
   "source": [
    "svr_test_rmse = mean_squared_error(y_test,svr_test_yhat,squared=False)\n",
    "svr_test_rmse"
   ]
  },
  {
   "cell_type": "markdown",
   "id": "08a53ad7-8357-45b5-8498-c578142d34d1",
   "metadata": {},
   "source": [
    "#### SVR Poly"
   ]
  },
  {
   "cell_type": "code",
   "execution_count": 1621,
   "id": "dd742ee4-adab-4f60-a43d-8e9799ea8088",
   "metadata": {},
   "outputs": [],
   "source": [
    "svr_poly = SVR(C=77500,kernel='poly',degree=2).fit(X_train_trans,y_train)"
   ]
  },
  {
   "cell_type": "code",
   "execution_count": 1622,
   "id": "f4d381e1-7473-4a2d-9312-f2033ecc16f5",
   "metadata": {},
   "outputs": [],
   "source": [
    "svr_poly_train_yhat = svr_poly.predict(X_train_trans)"
   ]
  },
  {
   "cell_type": "code",
   "execution_count": 1623,
   "id": "de8984b2-c254-4a3c-b8cd-153fc93ee5f0",
   "metadata": {},
   "outputs": [
    {
     "data": {
      "text/plain": [
       "0.9404184645679474"
      ]
     },
     "execution_count": 1623,
     "metadata": {},
     "output_type": "execute_result"
    }
   ],
   "source": [
    "svr_poly_train_r2 = r2_score(y_train,svr_poly_train_yhat)\n",
    "svr_poly_train_r2"
   ]
  },
  {
   "cell_type": "code",
   "execution_count": 1624,
   "id": "9788cc03-bc81-416a-b1e2-22267683f604",
   "metadata": {},
   "outputs": [
    {
     "data": {
      "text/plain": [
       "1937.0026062307147"
      ]
     },
     "execution_count": 1624,
     "metadata": {},
     "output_type": "execute_result"
    }
   ],
   "source": [
    "svr_poly_train_rmse = mean_squared_error(y_train,svr_poly_train_yhat,squared=False)\n",
    "svr_poly_train_rmse"
   ]
  },
  {
   "cell_type": "code",
   "execution_count": 1625,
   "id": "095283af-5f4f-4ef4-b212-9374141efe80",
   "metadata": {
    "tags": []
   },
   "outputs": [],
   "source": [
    "svr_poly_test_yhat = svr_poly.predict(X_test_trans)"
   ]
  },
  {
   "cell_type": "code",
   "execution_count": 1626,
   "id": "bc64c5c2-0a16-4d30-b526-36dd4b179a1b",
   "metadata": {},
   "outputs": [
    {
     "data": {
      "text/plain": [
       "0.8769174052421456"
      ]
     },
     "execution_count": 1626,
     "metadata": {},
     "output_type": "execute_result"
    }
   ],
   "source": [
    "svr_poly_test_r2 = r2_score(y_test,svr_poly_test_yhat)\n",
    "svr_poly_test_r2"
   ]
  },
  {
   "cell_type": "code",
   "execution_count": 1627,
   "id": "70b6c32c-5dbe-424f-a55e-3680a1b6dea1",
   "metadata": {},
   "outputs": [
    {
     "data": {
      "text/plain": [
       "2842.807250010135"
      ]
     },
     "execution_count": 1627,
     "metadata": {},
     "output_type": "execute_result"
    }
   ],
   "source": [
    "svr_poly_test_rmse = mean_squared_error(y_test,svr_poly_test_yhat,squared=False)\n",
    "svr_poly_test_rmse"
   ]
  },
  {
   "cell_type": "markdown",
   "id": "920cbe46-9b33-4a8a-9018-b7f6ee592b65",
   "metadata": {},
   "source": [
    "No much point going for more complex model like SVR"
   ]
  },
  {
   "cell_type": "markdown",
   "id": "9f333946-2b33-4b8e-8232-69a9a803a853",
   "metadata": {
    "tags": []
   },
   "source": [
    "### Random Forest Regression"
   ]
  },
  {
   "cell_type": "code",
   "execution_count": 1835,
   "id": "cddaa44f-15fd-467b-b3b7-d8b7d991fcdc",
   "metadata": {},
   "outputs": [],
   "source": [
    "rforest = RandomForestRegressor(n_estimators=100,n_jobs=4).fit(X_train_trans,y_train)"
   ]
  },
  {
   "cell_type": "code",
   "execution_count": 1836,
   "id": "658764ab-69c8-4372-bbc1-e594dc2a4abc",
   "metadata": {},
   "outputs": [],
   "source": [
    "rforest_train_yhat = rforest.predict(X_train_trans)"
   ]
  },
  {
   "cell_type": "code",
   "execution_count": 1837,
   "id": "2aa9bc85-0bd5-4dce-9793-9f637ea6bdaa",
   "metadata": {},
   "outputs": [
    {
     "data": {
      "text/plain": [
       "0.9861582593759282"
      ]
     },
     "execution_count": 1837,
     "metadata": {},
     "output_type": "execute_result"
    }
   ],
   "source": [
    "rforest_train_r2 = r2_score(y_train,rforest_train_yhat)\n",
    "rforest_train_r2"
   ]
  },
  {
   "cell_type": "code",
   "execution_count": 1838,
   "id": "06a0b6e8-3d5e-4223-8655-1cab3b594611",
   "metadata": {},
   "outputs": [
    {
     "data": {
      "text/plain": [
       "933.6190679932748"
      ]
     },
     "execution_count": 1838,
     "metadata": {},
     "output_type": "execute_result"
    }
   ],
   "source": [
    "rforest_train_rmse = mean_squared_error(y_train,rforest_train_yhat,squared=False)\n",
    "rforest_train_rmse"
   ]
  },
  {
   "cell_type": "code",
   "execution_count": 1839,
   "id": "989646e2-3eff-4523-b216-83baef6e0845",
   "metadata": {
    "tags": []
   },
   "outputs": [],
   "source": [
    "rforest_test_yhat = rforest.predict(X_test_trans)"
   ]
  },
  {
   "cell_type": "code",
   "execution_count": 1840,
   "id": "58d7d801-b546-4b88-95be-b19619a0cb75",
   "metadata": {},
   "outputs": [
    {
     "data": {
      "text/plain": [
       "0.7772391791422922"
      ]
     },
     "execution_count": 1840,
     "metadata": {},
     "output_type": "execute_result"
    }
   ],
   "source": [
    "rforest_test_r2 = r2_score(y_test,rforest_test_yhat)\n",
    "rforest_test_r2"
   ]
  },
  {
   "cell_type": "code",
   "execution_count": 1841,
   "id": "6f6c5c93-b885-40c7-8952-dd2d0250a641",
   "metadata": {},
   "outputs": [
    {
     "data": {
      "text/plain": [
       "3824.445685853927"
      ]
     },
     "execution_count": 1841,
     "metadata": {},
     "output_type": "execute_result"
    }
   ],
   "source": [
    "rforest_test_rmse = mean_squared_error(y_test,rforest_test_yhat,squared=False)\n",
    "rforest_test_rmse"
   ]
  },
  {
   "cell_type": "markdown",
   "id": "d09f95f1-1988-4bdd-8be8-99623a29c787",
   "metadata": {},
   "source": [
    "I have retried for a lot of times, it seems like the current number of samples is not enough to regularize well the Random Forest Regressor model"
   ]
  },
  {
   "cell_type": "markdown",
   "id": "90d96beb-3036-46e1-beeb-6acfa4bd58b5",
   "metadata": {},
   "source": [
    "#### Saving the model"
   ]
  },
  {
   "cell_type": "code",
   "execution_count": 2013,
   "id": "ee9e285a-c2fd-43a2-b28a-90406d024dfa",
   "metadata": {},
   "outputs": [],
   "source": [
    "rforest_yhats = {\n",
    "    \"rforest_train_yhat\":rforest_train_yhat,\n",
    "    \"rforest_test_yhat\":rforest_test_yhat,\n",
    "}"
   ]
  },
  {
   "cell_type": "code",
   "execution_count": 2014,
   "id": "af3a5742-4aed-4c9c-b25f-d6ac146c8cf9",
   "metadata": {},
   "outputs": [],
   "source": [
    "rforest_scores = {\n",
    "    \"rforest_train_r2\":rforest_train_r2,\n",
    "    \"rforest_train_rmse\":rforest_train_rmse,\n",
    "    \"rforest_test_r2\":rforest_test_r2,\n",
    "    \"rforest_test_rmse\":rforest_test_rmse,\n",
    "}"
   ]
  },
  {
   "cell_type": "code",
   "execution_count": 2015,
   "id": "1ab3a52b-5c2c-4377-8192-f61cdf184200",
   "metadata": {},
   "outputs": [],
   "source": [
    "dump_model(rforest,yhat=rforest_yhats,scores=rforest_scores)"
   ]
  },
  {
   "cell_type": "markdown",
   "id": "53db9ebb-7b1b-4b3d-83c8-c42451350571",
   "metadata": {},
   "source": [
    "### K-Nearest Neighbors Regression"
   ]
  },
  {
   "cell_type": "code",
   "execution_count": 1927,
   "id": "5838da93-8e69-48c7-850c-d7592deceed6",
   "metadata": {},
   "outputs": [],
   "source": [
    "knn = KNeighborsRegressor(n_neighbors=2,n_jobs=4).fit(X_train_trans,y_train)"
   ]
  },
  {
   "cell_type": "code",
   "execution_count": 1928,
   "id": "5e7fcbbb-54f4-4202-9c23-a3faa4ba71ba",
   "metadata": {},
   "outputs": [],
   "source": [
    "knn_train_yhat = knn.predict(X_train_trans)"
   ]
  },
  {
   "cell_type": "code",
   "execution_count": 1929,
   "id": "17f163c2-231d-4ff0-a289-4616f8c4e4a4",
   "metadata": {},
   "outputs": [
    {
     "data": {
      "text/plain": [
       "0.9607282643336948"
      ]
     },
     "execution_count": 1929,
     "metadata": {},
     "output_type": "execute_result"
    }
   ],
   "source": [
    "knn_train_r2 = r2_score(y_train,knn_train_yhat)\n",
    "knn_train_r2"
   ]
  },
  {
   "cell_type": "code",
   "execution_count": 1930,
   "id": "04145eb2-6ada-4bee-97e2-1fba322570d3",
   "metadata": {},
   "outputs": [
    {
     "data": {
      "text/plain": [
       "1572.5860091904863"
      ]
     },
     "execution_count": 1930,
     "metadata": {},
     "output_type": "execute_result"
    }
   ],
   "source": [
    "knn_train_rmse = mean_squared_error(y_train,knn_train_yhat,squared=False)\n",
    "knn_train_rmse"
   ]
  },
  {
   "cell_type": "code",
   "execution_count": 1931,
   "id": "29bbc4f0-39bb-4301-99c1-3c5970e52787",
   "metadata": {
    "tags": []
   },
   "outputs": [],
   "source": [
    "knn_test_yhat = knn.predict(X_test_trans)"
   ]
  },
  {
   "cell_type": "code",
   "execution_count": 1932,
   "id": "b76a9680-a3f6-4901-b601-8b69a938c005",
   "metadata": {},
   "outputs": [
    {
     "data": {
      "text/plain": [
       "0.8141148727609268"
      ]
     },
     "execution_count": 1932,
     "metadata": {},
     "output_type": "execute_result"
    }
   ],
   "source": [
    "knn_test_r2 = r2_score(y_test,knn_test_yhat)\n",
    "knn_test_r2"
   ]
  },
  {
   "cell_type": "code",
   "execution_count": 1933,
   "id": "61e342d5-266f-44b4-bef4-e5a348a9d156",
   "metadata": {},
   "outputs": [
    {
     "data": {
      "text/plain": [
       "3493.585804641163"
      ]
     },
     "execution_count": 1933,
     "metadata": {},
     "output_type": "execute_result"
    }
   ],
   "source": [
    "knn_test_rmse = mean_squared_error(y_test,knn_test_yhat,squared=False)\n",
    "knn_test_rmse"
   ]
  },
  {
   "cell_type": "markdown",
   "id": "9e4863c0-9305-4e5a-b239-c4415287dcbc",
   "metadata": {},
   "source": [
    "It doesn't seem like K-Nearest Neighbors model works well too"
   ]
  },
  {
   "cell_type": "markdown",
   "id": "017bc1c6-9714-432f-a4dc-f110a5324d6a",
   "metadata": {},
   "source": [
    "#### Saving the model"
   ]
  },
  {
   "cell_type": "code",
   "execution_count": 2016,
   "id": "8dd37e80-b442-49c3-b9af-877602f58e36",
   "metadata": {},
   "outputs": [],
   "source": [
    "knn_yhats = {\n",
    "    \"rforest_train_yhat\":knn_train_yhat,\n",
    "    \"rforest_test_yhat\":knn_test_yhat,\n",
    "}"
   ]
  },
  {
   "cell_type": "code",
   "execution_count": 2017,
   "id": "1013e0f8-7c39-48c3-b3cc-bbbcb4de1ddf",
   "metadata": {},
   "outputs": [],
   "source": [
    "knn_scores = {\n",
    "    \"knn_train_r2\":knn_train_r2,\n",
    "    \"knn_train_rmse\":knn_train_rmse,\n",
    "    \"knn_test_r2\":knn_test_r2,\n",
    "    \"knn_test_rmse\":knn_test_rmse,\n",
    "}"
   ]
  },
  {
   "cell_type": "code",
   "execution_count": 2018,
   "id": "28f9af0c-f263-46c5-90ea-34670ec4eb80",
   "metadata": {},
   "outputs": [],
   "source": [
    "dump_model(knn,yhat=knn_yhats,scores=knn_scores)"
   ]
  },
  {
   "cell_type": "markdown",
   "id": "a16ab36d-ce2d-4453-9578-02ae70844585",
   "metadata": {},
   "source": [
    "## Pipeline Wrap Up"
   ]
  },
  {
   "cell_type": "code",
   "execution_count": 1977,
   "id": "43deb6a6-cbff-4a9c-ad48-0b39aa9381d7",
   "metadata": {},
   "outputs": [],
   "source": [
    "pipe_final = Pipeline([\n",
    "    (\"custrans\",CustomTransform(out_df=True)),\n",
    "    (\"col_trans\",TrainedTransformer(col_trans)),\n",
    "    (\"fea_sel\",SelectPercentile(f_regression,percentile=30)),\n",
    "    (\"std_scale\",MyScaler('std',with_mean=False)),\n",
    "    (\"poly\",PolynomialFeatures(degree=2)),\n",
    "])"
   ]
  },
  {
   "cell_type": "code",
   "execution_count": 1978,
   "id": "c72321ca-7bff-4703-82be-006a5743d109",
   "metadata": {},
   "outputs": [
    {
     "data": {
      "text/plain": [
       "(array([[ 1.        ,  2.01824181,  0.        , ..., 16.31226185,\n",
       "         18.94436164, 22.0011695 ],\n",
       "        [ 1.        ,  2.01824181,  0.        , ..., 23.18947284,\n",
       "         26.11680625, 29.41367289],\n",
       "        [ 1.        ,  2.01824181,  0.        , ...,  8.71113392,\n",
       "         10.38296744, 12.37565784],\n",
       "        ...,\n",
       "        [ 1.        ,  0.        ,  2.06228136, ...,  6.17742461,\n",
       "          8.01492223, 10.39899027],\n",
       "        [ 1.        ,  0.        ,  2.06228136, ...,  6.17742461,\n",
       "          8.37923688, 11.36583854],\n",
       "        [ 1.        ,  0.        ,  2.06228136, ...,  6.97373325,\n",
       "         10.83836075, 16.8446454 ]]),\n",
       " (164, 231))"
      ]
     },
     "execution_count": 1978,
     "metadata": {},
     "output_type": "execute_result"
    }
   ],
   "source": [
    "X_train_trans_final = pipe_final.fit_transform(X_train,y_train)\n",
    "X_train_trans_final,X_train_trans_final.shape"
   ]
  },
  {
   "cell_type": "code",
   "execution_count": 1981,
   "id": "eca4254b-bbca-4ce5-9cd8-b3d7d91704d3",
   "metadata": {},
   "outputs": [
    {
     "data": {
      "text/plain": [
       "(array([[ 1.        ,  0.        ,  2.10881245, ..., 16.65829057,\n",
       "         19.1390727 , 21.9892973 ],\n",
       "        [ 1.        ,  0.        ,  2.10881245, ...,  4.16457264,\n",
       "          4.6397752 ,  5.1692012 ],\n",
       "        [ 1.        ,  2.10881245,  0.        , ..., 20.41915464,\n",
       "         23.75813462, 27.64311111],\n",
       "        ...,\n",
       "        [ 1.        ,  2.10881245,  0.        , ..., 12.23874409,\n",
       "         14.41644437, 16.98163363],\n",
       "        [ 1.        ,  2.10881245,  0.        , ..., 19.12303764,\n",
       "         21.12754778, 23.34217417],\n",
       "        [ 1.        ,  2.10881245,  0.        , ..., 27.5371742 ,\n",
       "         31.3184826 , 35.61902703]]),\n",
       " (41, 231))"
      ]
     },
     "execution_count": 1981,
     "metadata": {},
     "output_type": "execute_result"
    }
   ],
   "source": [
    "X_test_trans_final = pipe_final.transform(X_test)\n",
    "X_test_trans_final,X_test_trans_final.shape"
   ]
  },
  {
   "cell_type": "code",
   "execution_count": 1982,
   "id": "046f6d17-3c72-484d-be74-49ec1a3567f7",
   "metadata": {},
   "outputs": [],
   "source": [
    "pd.DataFrame(X_train_trans_final).to_csv(\"X_train_trans_final.csv\")\n",
    "pd.DataFrame(X_test_trans_final).to_csv(\"X_test_trans_final.csv\")"
   ]
  },
  {
   "cell_type": "code",
   "execution_count": 1980,
   "id": "5acd66a1-c5fa-49aa-8a37-fb26fcab85ae",
   "metadata": {},
   "outputs": [
    {
     "data": {
      "text/plain": [
       "['Trained Models\\\\pipe_final.pkl']"
      ]
     },
     "execution_count": 1980,
     "metadata": {},
     "output_type": "execute_result"
    }
   ],
   "source": [
    "joblib.dump(pipe_final,\"Trained Models\\\\pipe_final.pkl\")"
   ]
  },
  {
   "cell_type": "markdown",
   "id": "c67cd4a5-dd31-42e1-8b28-f595b35d5359",
   "metadata": {},
   "source": [
    "## Conclusion"
   ]
  },
  {
   "cell_type": "markdown",
   "id": "defe033a-6229-4f47-8d1f-d4fb3a76ec18",
   "metadata": {},
   "source": [
    "After testing for several kinds of regression models, the best model appears to be a Ridge(0.2) + Lasso(0.8) mixed regression model after polynomial transforming the X dataset.\\\n",
    "The failure in the more complex model could possibly suggests that there is insufficient data to even make the test RMSE reach close to that of the train set.\\\n",
    "There are still a lot of options that we can trial and error for better performance, such as conduct each model after a feature selection.\\\n",
    "But there are permutations of feature combinations, and it's just repetitive work and is considered out of the scope of this exercise.\\\n",
    "So I have decided to stop right here.\n",
    "\n",
    "**Scores (Test)**:\\\n",
    "R2: 0.8904\\\n",
    "RMSE: 2682.9644"
   ]
  }
 ],
 "metadata": {
  "kernelspec": {
   "display_name": "Python 3 (ipykernel)",
   "language": "python",
   "name": "python3"
  },
  "language_info": {
   "codemirror_mode": {
    "name": "ipython",
    "version": 3
   },
   "file_extension": ".py",
   "mimetype": "text/x-python",
   "name": "python",
   "nbconvert_exporter": "python",
   "pygments_lexer": "ipython3",
   "version": "3.10.3"
  }
 },
 "nbformat": 4,
 "nbformat_minor": 5
}
